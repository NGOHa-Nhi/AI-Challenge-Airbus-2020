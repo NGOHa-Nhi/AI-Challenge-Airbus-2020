{
 "cells": [
  {
   "cell_type": "markdown",
   "metadata": {},
   "source": [
    "<center>\n",
    "<a href=\"http://www.insa-toulouse.fr/\" ><img src=\"http://www.math.univ-toulouse.fr/~besse/Wikistat/Images/logo-insa.jpg\" style=\"float:left; max-width: 120px; display: inline\" alt=\"INSA\"/></a> \n",
    "\n",
    "<a href=\"http://wikistat.fr/\" ><img src=\"http://www.math.univ-toulouse.fr/~besse/Wikistat/Images/wikistat.jpg\" style=\"max-width: 250px; display: inline\"  alt=\"Wikistat\"/></a>\n",
    "\n",
    "<a href=\"http://www.math.univ-toulouse.fr/\" ><img src=\"http://www.math.univ-toulouse.fr/~besse/Wikistat/Images/logo_imt.jpg\" style=\"float:right; max-width: 250px; display: inline\" alt=\"IMT\"/> </a>\n",
    "</center>"
   ]
  },
  {
   "cell_type": "markdown",
   "metadata": {},
   "source": [
    "#   [Apprentissage en Grande Dimension](https://github.com/wikistat/High-Dimensional-Learning ): avec  <a href=\"https://cran.r-project.org/\"><img src=\"https://cran.r-project.org/Rlogo.svg\" style=\"max-width: 40px; display: inline\" alt=\"R\"/></a>:  Détection d'anomalies dans des données fonctionnelles "
   ]
  },
  {
   "cell_type": "markdown",
   "metadata": {},
   "source": [
    "**Résumé** Tutoriel de détection d'anomalies dans des données fonctionnelles. Les données simulées reproduisent les comportement de télémétries observées lors de tests réalisés sur des sattellites avant lancement. Ce sujet est issu du travail de thèse de Clémentine Barreyre chez Airbus Defense and Space. "
   ]
  },
  {
   "cell_type": "markdown",
   "metadata": {},
   "source": [
    "\n",
    "** Librairies **\n",
    "La liste  des *packages* ou librairies que nous utiliserons : la librairie **`wavethress`** ou la librairie **`waveslim`** pour calculer les coefficients d'ondelettes et la librairie **`e1071`** sera utilisée pour la méthode  one-class SVM, et la librairie **`DMwR`** pour la méthode Local Outlier Factor.   \n"
   ]
  },
  {
   "cell_type": "code",
   "execution_count": null,
   "metadata": {},
   "outputs": [],
   "source": [
    "library(wavethresh)\n",
    "library(waveslim)\n",
    "\n",
    "library(\"e1071\")\n",
    "library(DMwR)"
   ]
  },
  {
   "cell_type": "markdown",
   "metadata": {},
   "source": [
    "## 1  Description et lecture des données\n",
    "\n",
    "On dispose de 480 jours de télémesures. Chaque jour comporte 256 mesures  à intervalles de temps réguliers. Le jeu de données comporte le vecteur des temps et le vecteur des valeurs de la télémesure aux différents instants.\n",
    "\n",
    "Nous sommes dans un contexte d'apprentissage semi-supervisé : nous savons que les 240 derniers jours ne comportent pas d'anomalies. Les 240 premiers jours comportent quelques anomalies que nous allons chercher à détecter. \n",
    "\n"
   ]
  },
  {
   "cell_type": "markdown",
   "metadata": {},
   "source": [
    "### 1.1 Lecture des données  et statistiques élémentaires\n"
   ]
  },
  {
   "cell_type": "code",
   "execution_count": null,
   "metadata": {},
   "outputs": [],
   "source": [
    "TM=read.csv(\"../data/DonneesSimulees/TM_Saved_simulated_2017-06-23.dat\", row.names=1)\n",
    "summary(TM)\n",
    "dim(TM)\n"
   ]
  },
  {
   "cell_type": "markdown",
   "metadata": {},
   "source": [
    "\n",
    "Dans un premier temps, on se place donc dans un cadre non supervisé.  On n'utilise  pas l'information fournie par les  240 premières courbes qui ont été labellisées comme étant exemptes de toute anomalie.\n",
    "On utilise seulement les 240 premières courbes, qui contiennent un petit nombre d'anomalies. \n"
   ]
  },
  {
   "cell_type": "code",
   "execution_count": null,
   "metadata": {},
   "outputs": [],
   "source": [
    "p = 256\n",
    "\n",
    "TM_480 = matrix(TM[,2], nrow = p)\n",
    "dim(TM_480)\n",
    "\n",
    "TM_240 = TM_480[,c(1:240)]\n",
    "\n",
    "dim(TM_240)"
   ]
  },
  {
   "cell_type": "markdown",
   "metadata": {},
   "source": [
    "On précise quelles sont les 8 courbes atypiques. Ceci est inconnu du statisticien et servira seulement pour la validation de nos résultats. \n",
    "On introduit des couleurs différentes selon le type d'anomalies :\n",
    "\n",
    "- 4 anomalies de \"forme \" représentées en rouge : changement de forme ou d'amplitude des courbes \n",
    "- 3 anomalies locales représentées en rose : ajout d'un pic ou de bruit ou d'une valeur atypique\n",
    "- 1 anomalie de périodicité (deux périodes au lieu d'une) représentée en orange.\n"
   ]
  },
  {
   "cell_type": "code",
   "execution_count": null,
   "metadata": {
    "collapsed": true
   },
   "outputs": [],
   "source": [
    "anomalies = rep(0,240)\n",
    "anomalies[c(134,201, 156, 26, 220, 6, 70, 98)] = 1\n",
    "anomalies0 = rep(0,240)\n",
    "\n",
    "color = rep(1, ncol(TM_240))\n",
    "color[c(26,220,6,70)] = \"red\"\n",
    "color[c(134,201,156)] = \"pink3\"\n",
    "color[98] = \"orange\"                            "
   ]
  },
  {
   "cell_type": "markdown",
   "metadata": {},
   "source": [
    "\n",
    "\n",
    "### 1.2 Tracés des courbes\n",
    "#### Ensembe des courbes"
   ]
  },
  {
   "cell_type": "code",
   "execution_count": null,
   "metadata": {},
   "outputs": [],
   "source": [
    " plot(TM_240[,1],col=color[1],type='l',ylim=c(-2,4))\n",
    "for (j in 2:240) {\n",
    "    lines(TM_240[,j],col=color[j],type='l')}"
   ]
  },
  {
   "cell_type": "markdown",
   "metadata": {},
   "source": [
    "#### Quelques courbes "
   ]
  },
  {
   "cell_type": "code",
   "execution_count": null,
   "metadata": {},
   "outputs": [],
   "source": [
    "matplot(TM_240[,c(134:156)],type=\"l\",col=color[c(134:156)],lty=1)"
   ]
  },
  {
   "cell_type": "markdown",
   "metadata": {},
   "source": [
    "#### Ensemble des courbes atypiques"
   ]
  },
  {
   "cell_type": "code",
   "execution_count": null,
   "metadata": {},
   "outputs": [],
   "source": [
    "matplot(TM_240[,c(134,201, 156, 26, 220, 6, 70, 98)],type=\"l\",col=color[c(134,201, 156, 26, 220, 6, 70, 98)],lty=1)"
   ]
  },
  {
   "cell_type": "markdown",
   "metadata": {},
   "source": [
    "## 2. Analyse en composantes principales\n",
    "### 2.1 Sur le jeu de données contenant des anomalies"
   ]
  },
  {
   "cell_type": "code",
   "execution_count": null,
   "metadata": {},
   "outputs": [],
   "source": [
    "acp=prcomp(t(TM_240), scale=TRUE)\n",
    "plot(acp)\n",
    "biplot(acp)"
   ]
  },
  {
   "cell_type": "markdown",
   "metadata": {},
   "source": [
    "### 2.2 Sur le jeu de données ne contenant pas d'anomalies: "
   ]
  },
  {
   "cell_type": "code",
   "execution_count": null,
   "metadata": {},
   "outputs": [],
   "source": [
    "acp2=prcomp(t(TM_480[,c(241:480)]), scale=TRUE)\n",
    "plot(acp2)\n",
    "biplot(acp2)"
   ]
  },
  {
   "cell_type": "markdown",
   "metadata": {},
   "source": [
    "## 3 Définition des *features* \n",
    "\n",
    "Pour détecter les anomalies, on peut utiliser les données brutes, mais ce n'est pas toujours le plus efficace. On peut aussi essayer d'extraire de nouvelles variables, appelées caractéristiques (*features*), qui permettront peut-être de mettre davantage en lumière les anomalies. Pour cela, on peut par exemple utiliser les coefficients de la projection des données brutes sur des bases orthonormées: base de composantes principales, ou bases d'ondelettes. \n",
    "\n",
    "\n",
    "### 3.1 Coefficients dans la base des composantes principales\n"
   ]
  },
  {
   "cell_type": "code",
   "execution_count": null,
   "metadata": {},
   "outputs": [],
   "source": [
    "# Calcul des Features obtenues à l'aide de l'ACP : \n",
    "\n",
    "ACP = prcomp(t(TM_240))\n",
    "phi= ACP$rotation\n",
    "Theta = t(TM_480)%*%phi\n",
    "\n",
    "index = min(which(cumsum(ACP$sdev)/sum(ACP$sdev)>0.95))\n",
    "index"
   ]
  },
  {
   "cell_type": "code",
   "execution_count": null,
   "metadata": {
    "collapsed": true
   },
   "outputs": [],
   "source": [
    "\n",
    "# Definition des features utilisées pour détecter les anomalies : \n",
    "\n",
    "# Les coefficients pour les courbes ne contenant pas d'anomalies\n",
    "set00 = Theta[241:480,1:index]\n",
    "\n",
    "# Pour le jeu de données contenant des anomalies \n",
    "# données brutes\n",
    "set0= t(TM_240)\n",
    "\n",
    "# Coefficients sur la base des composantes principales\n",
    "set1 = Theta[1:240,]\n",
    "\n",
    "# Seulement les coefficients associés aux plus grandes variances\n",
    "set2 = Theta[1:240,1:index]"
   ]
  },
  {
   "cell_type": "markdown",
   "metadata": {},
   "source": [
    "### 3.2 Coefficients dans une base d'ondelettes"
   ]
  },
  {
   "cell_type": "code",
   "execution_count": null,
   "metadata": {},
   "outputs": [],
   "source": [
    "Train=t(TM_240)\n",
    "nlevels =8 # 2**8=256\n",
    "\n",
    "TrainT = NULL # table de coefficients d'ondelettes\n",
    "threshTrainT = NULL # table de coefficients d'ondelettes seuillés\n",
    "\n",
    "for (i in 1:nrow(Train)){ \n",
    "    xTrain = Train[i,]\n",
    "    wtTrain = dwt(xTrain, n.levels=8)\n",
    "    threshwtTrain=universal.thresh(wtTrain, max.level = 4, hard = TRUE)\n",
    "    TrainT = rbind(TrainT,unlist(wtTrain))\n",
    "    threshTrainT =rbind(threshTrainT ,unlist(threshwtTrain))\n",
    "    }\n",
    "\n",
    "TrainT=data.frame(TrainT)\n",
    "threshTrainT=data.frame(threshTrainT)\n",
    "\n",
    "dim(TrainT)\n",
    "dim(threshTrainT)\n",
    "\n",
    "# Nombre de coefficients non nuls : \n",
    "\n",
    "sum(sum(TrainT!=0))\n",
    "sum(sum(threshTrainT!=0))"
   ]
  },
  {
   "cell_type": "code",
   "execution_count": null,
   "metadata": {
    "collapsed": true
   },
   "outputs": [],
   "source": [
    "# Definition des features utilisées pour détecter les anomalies : \n",
    "\n",
    "# Tous les coefficients sur la base d'ondelettes :\n",
    "set3= TrainT\n",
    "\n",
    "# Seulement les coefficients d'ondelettes de niveau le plus fin J=7 \n",
    "set4= TrainT[,1:128]\n",
    "\n",
    "# Les coefficients des niveaux J=0 à  6\n",
    "set5=TrainT[, 128:256]\n",
    "\n",
    "# Les coefficients seuillés : \n",
    "set6=threshTrainT"
   ]
  },
  {
   "cell_type": "markdown",
   "metadata": {},
   "source": [
    "### 3.3 Analyse en composantes principales sur les coefficients d'ondelettes"
   ]
  },
  {
   "cell_type": "code",
   "execution_count": null,
   "metadata": {},
   "outputs": [],
   "source": [
    "acp=prcomp(t(set4))\n",
    "plot(acp)\n",
    "biplot(acp)"
   ]
  },
  {
   "cell_type": "code",
   "execution_count": null,
   "metadata": {},
   "outputs": [],
   "source": [
    "acp=prcomp(t(set5))\n",
    "plot(acp)\n",
    "biplot(acp)"
   ]
  },
  {
   "cell_type": "code",
   "execution_count": null,
   "metadata": {},
   "outputs": [],
   "source": [
    "acp=prcomp(t(set6))\n",
    "plot(acp)\n",
    "biplot(acp)"
   ]
  },
  {
   "cell_type": "markdown",
   "metadata": {},
   "source": [
    "## 4 Détection d'anomalies par différentes méthodes\n",
    "### 4.1 Classification ascendante hierarchique \n",
    "#### Données sans anomalies"
   ]
  },
  {
   "cell_type": "code",
   "execution_count": null,
   "metadata": {},
   "outputs": [],
   "source": [
    "H = hclust(d = dist(set00), method = \"single\")\n",
    "plot(H)"
   ]
  },
  {
   "cell_type": "code",
   "execution_count": null,
   "metadata": {},
   "outputs": [],
   "source": [
    "c = cutree(H, k = 5)\n",
    "table(c, anomalies0)"
   ]
  },
  {
   "cell_type": "code",
   "execution_count": null,
   "metadata": {},
   "outputs": [],
   "source": [
    "plot(H$height)"
   ]
  },
  {
   "cell_type": "markdown",
   "metadata": {},
   "source": [
    "#### CAH sur données brutes"
   ]
  },
  {
   "cell_type": "code",
   "execution_count": null,
   "metadata": {},
   "outputs": [],
   "source": [
    "H0 = hclust(d = dist(set0), method = \"single\")\n",
    "plot(H0)"
   ]
  },
  {
   "cell_type": "code",
   "execution_count": null,
   "metadata": {},
   "outputs": [],
   "source": [
    "c0 = cutree(H0, k = 5)\n",
    "table(c0, anomalies)"
   ]
  },
  {
   "cell_type": "code",
   "execution_count": null,
   "metadata": {},
   "outputs": [],
   "source": [
    "H0$order"
   ]
  },
  {
   "cell_type": "code",
   "execution_count": null,
   "metadata": {},
   "outputs": [],
   "source": [
    "plot(H0$height)"
   ]
  },
  {
   "cell_type": "markdown",
   "metadata": {},
   "source": [
    "#### CAH sur composantes principales"
   ]
  },
  {
   "cell_type": "code",
   "execution_count": null,
   "metadata": {},
   "outputs": [],
   "source": [
    "H1= hclust(d = dist(set1), method = \"single\")\n",
    "plot(H1)"
   ]
  },
  {
   "cell_type": "code",
   "execution_count": null,
   "metadata": {},
   "outputs": [],
   "source": [
    "c1 = cutree(H1, k = 5)\n",
    "table(c1, anomalies)"
   ]
  },
  {
   "cell_type": "code",
   "execution_count": null,
   "metadata": {},
   "outputs": [],
   "source": [
    "H1$order"
   ]
  },
  {
   "cell_type": "code",
   "execution_count": null,
   "metadata": {},
   "outputs": [],
   "source": [
    "plot(H1$height)"
   ]
  },
  {
   "cell_type": "markdown",
   "metadata": {},
   "source": [
    "#### CAH sur les premières composantes principales"
   ]
  },
  {
   "cell_type": "code",
   "execution_count": null,
   "metadata": {},
   "outputs": [],
   "source": [
    "H2 = hclust(d = dist(set2), method = \"single\")\n",
    "plot(H2)"
   ]
  },
  {
   "cell_type": "code",
   "execution_count": null,
   "metadata": {},
   "outputs": [],
   "source": [
    "c2 = cutree(H2, k = 5)\n",
    "table(c2, anomalies)"
   ]
  },
  {
   "cell_type": "code",
   "execution_count": null,
   "metadata": {
    "scrolled": false
   },
   "outputs": [],
   "source": [
    "H2$order\n",
    "plot(H2$height)"
   ]
  },
  {
   "cell_type": "markdown",
   "metadata": {},
   "source": [
    "#### CAH sur les  coefficients d'ondelettes"
   ]
  },
  {
   "cell_type": "code",
   "execution_count": null,
   "metadata": {},
   "outputs": [],
   "source": [
    "H3 = hclust(d = dist(set3), method = \"single\")\n",
    "plot(H3)"
   ]
  },
  {
   "cell_type": "code",
   "execution_count": null,
   "metadata": {},
   "outputs": [],
   "source": [
    "c3 = cutree(H3, k = 5)\n",
    "table(c3, anomalies)"
   ]
  },
  {
   "cell_type": "code",
   "execution_count": null,
   "metadata": {},
   "outputs": [],
   "source": [
    "H3$order"
   ]
  },
  {
   "cell_type": "code",
   "execution_count": null,
   "metadata": {},
   "outputs": [],
   "source": [
    "plot(H3$height)"
   ]
  },
  {
   "cell_type": "markdown",
   "metadata": {},
   "source": [
    "#### CAH sur  les  coefficients d'ondelettes de niveau le plus fin"
   ]
  },
  {
   "cell_type": "code",
   "execution_count": null,
   "metadata": {},
   "outputs": [],
   "source": [
    "H4 = hclust(d = dist(set4), method = \"single\")\n",
    "plot(H4)"
   ]
  },
  {
   "cell_type": "code",
   "execution_count": null,
   "metadata": {},
   "outputs": [],
   "source": [
    "c4 = cutree(H4, k = 5)\n",
    "table(c4, anomalies)"
   ]
  },
  {
   "cell_type": "code",
   "execution_count": null,
   "metadata": {},
   "outputs": [],
   "source": [
    "H4$order"
   ]
  },
  {
   "cell_type": "code",
   "execution_count": null,
   "metadata": {},
   "outputs": [],
   "source": [
    "plot(H4$height)"
   ]
  },
  {
   "cell_type": "markdown",
   "metadata": {},
   "source": [
    "#### Fausse alarme"
   ]
  },
  {
   "cell_type": "code",
   "execution_count": null,
   "metadata": {},
   "outputs": [],
   "source": [
    "plot(TM_240[,25],type=\"l\",col=color[25],lty=1)"
   ]
  },
  {
   "cell_type": "markdown",
   "metadata": {},
   "source": [
    "#### CAH sur les  coefficients d'ondelettes de niveaux 0 à 6 "
   ]
  },
  {
   "cell_type": "code",
   "execution_count": null,
   "metadata": {},
   "outputs": [],
   "source": [
    "H5 = hclust(d = dist(set5), method = \"single\")\n",
    "plot(H5)"
   ]
  },
  {
   "cell_type": "code",
   "execution_count": null,
   "metadata": {},
   "outputs": [],
   "source": [
    "c5 = cutree(H5, k = 5)\n",
    "table(c5, anomalies)"
   ]
  },
  {
   "cell_type": "code",
   "execution_count": null,
   "metadata": {},
   "outputs": [],
   "source": [
    "H5$order"
   ]
  },
  {
   "cell_type": "code",
   "execution_count": null,
   "metadata": {},
   "outputs": [],
   "source": [
    "plot(H5$height)"
   ]
  },
  {
   "cell_type": "markdown",
   "metadata": {},
   "source": [
    "#### CAH sur les  coefficients d'ondelettes  seuillés "
   ]
  },
  {
   "cell_type": "code",
   "execution_count": null,
   "metadata": {},
   "outputs": [],
   "source": [
    "H6 = hclust(d = dist(set6), method = \"single\")\n",
    "plot(H6)"
   ]
  },
  {
   "cell_type": "code",
   "execution_count": null,
   "metadata": {},
   "outputs": [],
   "source": [
    "c6 = cutree(H6, k = 5)\n",
    "table(c6, anomalies)"
   ]
  },
  {
   "cell_type": "code",
   "execution_count": null,
   "metadata": {},
   "outputs": [],
   "source": [
    "H6$order"
   ]
  },
  {
   "cell_type": "code",
   "execution_count": null,
   "metadata": {},
   "outputs": [],
   "source": [
    "plot(H6$height)"
   ]
  },
  {
   "cell_type": "markdown",
   "metadata": {},
   "source": [
    "** Q ** Comparer les résultats. Quelles jeux de features donnent des résultats comparables ? Lequel donne des résultats différents. Ceci est-il cohérent avec les types d'anomalies considérées ? "
   ]
  },
  {
   "cell_type": "markdown",
   "metadata": {},
   "source": [
    "### 4.2 One Class SVM\n",
    "#### Avec les coefficients dans la base des composantes principales"
   ]
  },
  {
   "cell_type": "code",
   "execution_count": null,
   "metadata": {},
   "outputs": [],
   "source": [
    "ocsvm.acp = svm(set2, nu=0.05)\n",
    "resu.svm.acp= ocsvm.acp$fitted\n",
    "table(resu.svm.acp, anomalies)"
   ]
  },
  {
   "cell_type": "code",
   "execution_count": null,
   "metadata": {},
   "outputs": [],
   "source": [
    "which(resu.svm.acp==\"FALSE\")"
   ]
  },
  {
   "cell_type": "markdown",
   "metadata": {},
   "source": [
    "** Q. ** Commenter les résultats et tracer les courbes présentant des anomalies qui sont détectées et celles qui ne le sont pas, ainsi que les fausses alarmes. "
   ]
  },
  {
   "cell_type": "markdown",
   "metadata": {},
   "source": [
    "#### Avec les coefficients d'ondelettes de niveau le plus fin"
   ]
  },
  {
   "cell_type": "code",
   "execution_count": null,
   "metadata": {},
   "outputs": [],
   "source": [
    "ocsvm.ond7 = svm(set4, nu=0.05)\n",
    "resu.svm.ond7= ocsvm.ond7$fitted\n",
    "table(resu.svm.ond7, anomalies)"
   ]
  },
  {
   "cell_type": "code",
   "execution_count": null,
   "metadata": {},
   "outputs": [],
   "source": [
    "which(resu.svm.ond7==\"FALSE\")"
   ]
  },
  {
   "cell_type": "markdown",
   "metadata": {},
   "source": [
    "#### Avec les coefficients d'ondelettes de niveau 0 à 6"
   ]
  },
  {
   "cell_type": "code",
   "execution_count": null,
   "metadata": {},
   "outputs": [],
   "source": [
    "ocsvm.ond = svm(set5, nu=0.05)\n",
    "resu.svm.ond= ocsvm.ond$fitted\n",
    "table(resu.svm.ond, anomalies)"
   ]
  },
  {
   "cell_type": "code",
   "execution_count": null,
   "metadata": {},
   "outputs": [],
   "source": [
    "which(resu.svm.ond==\"FALSE\")"
   ]
  },
  {
   "cell_type": "markdown",
   "metadata": {},
   "source": [
    "** Q. ** Commenter les résultats obtenus avec les coefficients d'ondelettes et retrouvez quelles sont les courbes atypiques qui sont détectées ainsi que les \"faux positifs\". "
   ]
  },
  {
   "cell_type": "markdown",
   "metadata": {},
   "source": [
    "### 4.3 Local Outlier Factor\n",
    "#### Avec les coefficients dans la base des composantes principales"
   ]
  },
  {
   "cell_type": "code",
   "execution_count": null,
   "metadata": {},
   "outputs": [],
   "source": [
    "lof.acp1 = lofactor(data = set1, k = 5)\n",
    "resu.lof.acp1= (lof.acp1>2)\n",
    "table(resu.lof.acp1, anomalies)"
   ]
  },
  {
   "cell_type": "code",
   "execution_count": null,
   "metadata": {},
   "outputs": [],
   "source": [
    "lof.acp2 = lofactor(data = set2, k = 5)\n",
    "resu.lof.acp2= (lof.acp2>2)\n",
    "table(resu.lof.acp2, anomalies)"
   ]
  },
  {
   "cell_type": "markdown",
   "metadata": {},
   "source": [
    "#### Avec les données brutes "
   ]
  },
  {
   "cell_type": "code",
   "execution_count": null,
   "metadata": {},
   "outputs": [],
   "source": [
    "lof.acp0 = lofactor(data = set0, k = 5)\n",
    "resu.lof.acp0= (lof.acp0>2)\n",
    "table(resu.lof.acp0, anomalies)"
   ]
  },
  {
   "cell_type": "markdown",
   "metadata": {},
   "source": [
    "** Q. ** Commenter ces résultats et retrouvez quelles sont les courbes atypiques qui sont détectées ainsi que les \"faux positifs\""
   ]
  },
  {
   "cell_type": "markdown",
   "metadata": {},
   "source": [
    "#### Avec les coefficients d'ondelettes"
   ]
  },
  {
   "cell_type": "code",
   "execution_count": null,
   "metadata": {},
   "outputs": [],
   "source": [
    "# Tous les coefficients\n",
    "lof.ond = lofactor(data = set3, k =5)\n",
    "resu.lof.ond= (lof.ond>2)\n",
    "table(resu.lof.ond, anomalies)"
   ]
  },
  {
   "cell_type": "code",
   "execution_count": null,
   "metadata": {},
   "outputs": [],
   "source": [
    "# Niveau le plus fin\n",
    "lof.ond7 = lofactor(data = set4, k = 5)\n",
    "resu.lof.ond7= (lof.ond7>2)\n",
    "table(resu.lof.ond7, anomalies)"
   ]
  },
  {
   "cell_type": "code",
   "execution_count": null,
   "metadata": {},
   "outputs": [],
   "source": [
    "# Niveau 0 à 6 \n",
    "lof.ond06 = lofactor(data = set5, k = 5)\n",
    "resu.lof.ond06= (lof.ond06>2)\n",
    "table(resu.lof.ond06, anomalies)"
   ]
  },
  {
   "cell_type": "code",
   "execution_count": null,
   "metadata": {},
   "outputs": [],
   "source": [
    "# Coefficients seuillés\n",
    "lof.ondthresh = lofactor(data = set6, k = 5)\n",
    "resu.lof.ondthresh= (lof.ondthresh>2)\n",
    "table(resu.lof.ondthresh, anomalies)"
   ]
  },
  {
   "cell_type": "markdown",
   "metadata": {},
   "source": [
    "## 5 Visualisation des résultats"
   ]
  },
  {
   "cell_type": "markdown",
   "metadata": {},
   "source": [
    "## 5.1 Une fonction pour visualiser les résultats"
   ]
  },
  {
   "cell_type": "code",
   "execution_count": null,
   "metadata": {
    "collapsed": true
   },
   "outputs": [],
   "source": [
    "plot.LOF= function(Vec, main =\"Log(Local Outlier Factor)\", lim = c(4), ymax = max(Vec)){\n",
    "  plot(Vec, xlab = \"Days\", ylab = \"log(Local Outlier Factor)\", main = main, ylim = c(0, ymax), \n",
    "       pch = 1+ 1*(Vec > min(lim)))\n",
    "  anom = which(color!=\"1\")\n",
    "  for(i in anom){\n",
    "    abline(v = i, col = color[i], lty = 2)\n",
    "  }\n",
    "  points (anom, Vec[anom], col = 2 + 5*(Vec[anom]>min(lim)) - 4*(Vec[anom]>=max(lim)) ,cex = 2, pch = 16)\n",
    "  points (anom, Vec[anom], col = 1 ,cex = 2, pch = 1)\n",
    "  for(i in lim){\n",
    "    abline(h=i, lwd = 2)\n",
    "  }\n",
    "  legend(\"topright\", c(\"LOF\", \"Anom Detected\",\"Anom not detected\", \"Pattern anom\", \"Periodicity anom\", \"Local Anom\", \"Limit\"), lty = c(NA,NA,NA,2,2,2,1),pch = c(1,16,16,NA,NA,NA,NA), \n",
    "         lwd = c(1,1,1,1,1,1,2), col = c(1,3,2,2,\"orange\", \"pink3\", 1))\n",
    "}"
   ]
  },
  {
   "cell_type": "markdown",
   "metadata": {},
   "source": [
    "** Q. ** Commenter les résultats obtenus avec les coefficients d'ondelettes et retrouvez quelles sont les courbes atypiques qui sont détectées ainsi que les \"faux positifs\". Essayez de déterminer comment optimiser le choix du paramètre **k**. "
   ]
  },
  {
   "cell_type": "markdown",
   "metadata": {},
   "source": [
    "## 5.2 Résultats obtenus par  *One-Class-SVM* "
   ]
  },
  {
   "cell_type": "code",
   "execution_count": null,
   "metadata": {},
   "outputs": [],
   "source": [
    "# OCSVM on wavelet coef : \n",
    "plot.LOF(1 - resu.svm.ond, ymax = 2, lim = 0.5, main =\"One-Class SVM on wavelets coef\")"
   ]
  },
  {
   "cell_type": "code",
   "execution_count": null,
   "metadata": {},
   "outputs": [],
   "source": [
    "plot.LOF(1 - resu.svm.ond7, ymax = 2, lim = 0.5, main =\"One-Class SVM on wavelets coef (level 7)\")"
   ]
  },
  {
   "cell_type": "code",
   "execution_count": null,
   "metadata": {},
   "outputs": [],
   "source": [
    "# Ce qui fonctionne le mieux : OCSVM on first ACP coef \n",
    "plot.LOF(1 - resu.svm.acp, ymax = 2, lim = 0.5, main =\"One-Class SVM on first acp coef\")"
   ]
  },
  {
   "cell_type": "markdown",
   "metadata": {},
   "source": [
    "### 5.3 Résultats obtenus par  *Local Outlier Factor*: "
   ]
  },
  {
   "cell_type": "code",
   "execution_count": null,
   "metadata": {},
   "outputs": [],
   "source": [
    "#LOF on  ACP coef\n",
    "plot.LOF(lof.acp, ymax = 20, lim = 2, main = \"LOF on ACP coef\")"
   ]
  },
  {
   "cell_type": "code",
   "execution_count": null,
   "metadata": {
    "collapsed": true
   },
   "outputs": [],
   "source": [
    "plot.LOF(lof.acp2, ymax = 20, lim = 2, main = \"LOF on first ACP coef\")"
   ]
  },
  {
   "cell_type": "code",
   "execution_count": null,
   "metadata": {
    "collapsed": true
   },
   "outputs": [],
   "source": [
    "#LOF on wavelet coef\n",
    "plot.LOF(lof.ond, ymax = 20, lim = 2, main = \" LOF on wavelets coef\")"
   ]
  },
  {
   "cell_type": "code",
   "execution_count": null,
   "metadata": {
    "collapsed": true
   },
   "outputs": [],
   "source": [
    "plot.LOF(lof.ond7, ymax = 20, lim = 2, main = \"LOF on wavelets coef (max level)\")"
   ]
  },
  {
   "cell_type": "markdown",
   "metadata": {},
   "source": [
    "**Q** Ajouter d'autres méthodes de détection d'anomalies"
   ]
  }
 ],
 "metadata": {
  "hide_input": false,
  "kernelspec": {
   "display_name": "R",
   "language": "R",
   "name": "ir"
  },
  "language_info": {
   "codemirror_mode": "r",
   "file_extension": ".r",
   "mimetype": "text/x-r-source",
   "name": "R",
   "pygments_lexer": "r",
   "version": "3.6.1"
  },
  "toc": {
   "nav_menu": {},
   "number_sections": true,
   "sideBar": true,
   "skip_h1_title": false,
   "toc_cell": false,
   "toc_position": {},
   "toc_section_display": "block",
   "toc_window_display": false
  }
 },
 "nbformat": 4,
 "nbformat_minor": 2
}
