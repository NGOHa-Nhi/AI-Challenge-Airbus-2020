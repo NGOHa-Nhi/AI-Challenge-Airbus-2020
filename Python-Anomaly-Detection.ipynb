{
 "cells": [
  {
   "cell_type": "markdown",
   "metadata": {},
   "source": [
    "<center>\n",
    "<a href=\"http://www.insa-toulouse.fr/\" ><img src=\"http://www.math.univ-toulouse.fr/~besse/Wikistat/Images/logo-insa.jpg\" style=\"float:left; max-width: 120px; display: inline\" alt=\"INSA\"/></a> \n",
    "\n",
    "<a href=\"http://wikistat.fr/\" ><img src=\"http://www.math.univ-toulouse.fr/~besse/Wikistat/Images/wikistat.jpg\" style=\"max-width: 250px; display: inline\"  alt=\"Wikistat\"/></a>\n",
    "\n",
    "<a href=\"http://www.math.univ-toulouse.fr/\" ><img src=\"http://www.math.univ-toulouse.fr/~besse/Wikistat/Images/logo_imt.jpg\" style=\"float:right; max-width: 250px; display: inline\" alt=\"IMT\"/> </a>\n",
    "</center>"
   ]
  },
  {
   "cell_type": "markdown",
   "metadata": {},
   "source": [
    "# Détection d'anomalies dans des données fonctionnelles avec  <a href=\"https://www.python.org/\"><img src=\"http://python.lycee.free.fr/_images/python-logo.png\" style=\"max-width: 200px; display: inline\" alt=\"R\"/></a>"
   ]
  },
  {
   "cell_type": "markdown",
   "metadata": {},
   "source": [
    "**Résumé** Tutoriel de détection d'anomalies dans des données fonctionnelles. Les données simulées reproduisent les comportement de télémétries observées lors de tests réalisés sur des sattellites avant lancement. Ce sujet est issu du travail de thèse de Clémentine Barreyre chez Airbus Defense and Space. "
   ]
  },
  {
   "cell_type": "markdown",
   "metadata": {},
   "source": [
    "\n",
    "** Librairies **\n",
    "La liste  des *packages* ou librairies que nous utiliserons : \n",
    "\n",
    "* la librairie **`pywt`** pour calculer les coefficients d'ondelettes \n",
    "* La librairie **`scipy`** pour la classification hiérarchique\n",
    "* librairie **`scikit-learn`** sera utilisée pour les méthodes `one-class SVM`, `Local Outlier Factor` et `Isolation Random Forest`.   \n"
   ]
  },
  {
   "cell_type": "code",
   "execution_count": null,
   "metadata": {
    "collapsed": true
   },
   "outputs": [],
   "source": [
    "import pandas as pd\n",
    "import numpy as np\n",
    "from statsmodels.robust import mad\n",
    "\n",
    "# Hierarchical clustering\n",
    "import scipy.cluster.hierarchy as sch\n",
    "#Wavelet\n",
    "import pywt\n",
    "# LOF\n",
    "import sklearn.neighbors as sn\n",
    "# Isolation Forest\n",
    "import sklearn.ensemble as se\n",
    "\n",
    "# Plot et Display\n",
    "from IPython.display import display\n",
    "%matplotlib inline\n",
    "import matplotlib.pyplot as plt\n",
    "import seaborn as sb\n",
    "sb.set()\n",
    "sb.set_style(\"darkgrid\", {\"axes.facecolor\": \".9\"})\n",
    "\n",
    "\n",
    "# import warnings filter\n",
    "from warnings import simplefilter\n",
    "# ignore all future warnings\n",
    "simplefilter(action='ignore', category=FutureWarning)"
   ]
  },
  {
   "cell_type": "markdown",
   "metadata": {},
   "source": [
    "#  Description et lecture des données\n",
    "\n",
    "On dispose de 480 jours de télémesures. Chaque jour comporte 256 mesures  à intervalles de temps réguliers. Le jeu de données comporte le vecteur des temps et le vecteur des valeurs de la télémesure aux différents instants.\n",
    "\n",
    "Nous sommes dans un contexte d'apprentissage semi-supervisé : nous savons que les 240 derniers jours ne comportent pas d'anomalies. Les 240 premiers jours comportent quelques anomalies que nous allons chercher à détecter. \n",
    "\n"
   ]
  },
  {
   "cell_type": "markdown",
   "metadata": {},
   "source": [
    "## Lecture des données  et statistiques élémentaires : \n"
   ]
  },
  {
   "cell_type": "code",
   "execution_count": null,
   "metadata": {},
   "outputs": [],
   "source": [
    "TM=pd.read_csv(\"../data/DonneesSimulees/TM_Saved_simulated_2017-06-23.dat\", index_col=0)\n",
    "print(TM.describe())\n",
    "TM.shape"
   ]
  },
  {
   "cell_type": "markdown",
   "metadata": {},
   "source": [
    "\n",
    "Dans un premier temps, on se place donc dans un cadre non supervisé.  On n'utilise  pas l'information fournie par les  240 dernières courbes qui ont été labellisées comme étant exemptes de toute anomalie.\n",
    "On utilise seulement les 240 premières courbes, qui contiennent un petit nombre d'anomalies. \n"
   ]
  },
  {
   "cell_type": "code",
   "execution_count": null,
   "metadata": {},
   "outputs": [],
   "source": [
    "TM_480 = TM[\"TM.w\"].values.reshape((480,256))\n",
    "print(TM_480.shape)\n",
    "TM_240 = TM_480[:240]\n",
    "print(TM_240.shape)"
   ]
  },
  {
   "cell_type": "markdown",
   "metadata": {},
   "source": [
    "On précise quelles sont les 8 courbes atypiques. Ceci est inconnu du statisticien et servira seulement pour la validation de nos résultats. \n",
    "On introduit des couleurs différentes selon le type d'anomalies :\n",
    "\n",
    "- 4 anomalies de \"forme \" représentées en rouge : changement de forme ou d'amplitude des courbes \n",
    "- 3 anomalies locales représentées en rose : ajout d'un pic ou de bruit ou d'une valeur atypique\n",
    "- 1 anomalie de périodicité (deux périodes au lieu d'une) représentée en orange."
   ]
  },
  {
   "cell_type": "code",
   "execution_count": null,
   "metadata": {
    "collapsed": true
   },
   "outputs": [],
   "source": [
    "ANOMALY_DIC = {0 : \"No anomaly\", 1 : \"Pattern Anomaly\", 2 : \"Local Anomaly\", 3 : \"Periodicity Anomaly\"}\n",
    "COLOR_DIC = {0 : \"black\", 1: \"red\", 2 : \"pink\", 3: \"orange\"}\n",
    "\n",
    "\n",
    "anomalies = np.zeros(480)\n",
    "anomalies[[25,219,5,69]] = 1\n",
    "anomalies[[133,200,155]] = 2\n",
    "anomalies[[97]] = 3                          \n",
    "     \n",
    "TM_480A = list(zip(TM_480, anomalies))"
   ]
  },
  {
   "cell_type": "markdown",
   "metadata": {},
   "source": [
    "\n",
    "\n",
    "## Tracés de l'ensemble des courbes"
   ]
  },
  {
   "cell_type": "code",
   "execution_count": null,
   "metadata": {},
   "outputs": [],
   "source": [
    "fig=plt.figure(figsize=(20,10))\n",
    "ax = fig.add_subplot(1,1,1)\n",
    "xrange = range(256)\n",
    "labels = []\n",
    "for values, anomaly in TM_480A[:240]:\n",
    "    label = ANOMALY_DIC[anomaly]\n",
    "    if label in labels:\n",
    "        ax.plot(xrange, values, color=COLOR_DIC[anomaly], linewidth=0.5)\n",
    "    else:\n",
    "        ax.plot(xrange, values, color=COLOR_DIC[anomaly], linewidth=0.5, label=label)\n",
    "        labels.append(label)\n",
    "plt.legend(fontsize=20)\n",
    "ax.set_title(\"Trace des 240 premieres courbes avec anomalie\", fontsize=35)"
   ]
  },
  {
   "cell_type": "markdown",
   "metadata": {},
   "source": [
    "## Tracé de quelques courbes "
   ]
  },
  {
   "cell_type": "code",
   "execution_count": null,
   "metadata": {},
   "outputs": [],
   "source": [
    "fig=plt.figure(figsize=(20,10))\n",
    "ax = fig.add_subplot(1,1,1)\n",
    "xrange = range(256)\n",
    "labels = []\n",
    "for values, anomaly in TM_480A[133:156]:\n",
    "    label = ANOMALY_DIC[anomaly]\n",
    "    if label in labels:\n",
    "        ax.plot(xrange, values, color=COLOR_DIC[anomaly], linewidth=0.5)\n",
    "    else:\n",
    "        ax.plot(xrange, values, color=COLOR_DIC[anomaly], linewidth=0.5, label=label)\n",
    "        labels.append(label)\n",
    "plt.legend(fontsize=20)\n",
    "ax.set_title(\"Trace de quelques courbes\", fontsize=35)"
   ]
  },
  {
   "cell_type": "markdown",
   "metadata": {},
   "source": [
    "## Tracé de l'ensemble des courbes atypiques"
   ]
  },
  {
   "cell_type": "code",
   "execution_count": null,
   "metadata": {},
   "outputs": [],
   "source": [
    "fig=plt.figure(figsize=(20,10))\n",
    "ax = fig.add_subplot(1,1,1)\n",
    "xrange = range(256)\n",
    "labels = []\n",
    "for values, anomaly in filter(lambda x : x[1]!=0, TM_480A):\n",
    "    label = ANOMALY_DIC[anomaly]\n",
    "    if label in labels:\n",
    "        ax.plot(xrange, values, color=COLOR_DIC[anomaly], linewidth=0.5)\n",
    "    else:\n",
    "        ax.plot(xrange, values, color=COLOR_DIC[anomaly], linewidth=0.5, label=label)\n",
    "        labels.append(label)\n",
    "plt.legend(fontsize=20)\n",
    "ax.set_title(\"Trace des 8 courbes atypiques\", fontsize=35)\n"
   ]
  },
  {
   "cell_type": "markdown",
   "metadata": {},
   "source": [
    "## Analyse en composantes principales\n",
    "### Sur le jeu de données contenant des anomalies"
   ]
  },
  {
   "cell_type": "code",
   "execution_count": null,
   "metadata": {
    "collapsed": true
   },
   "outputs": [],
   "source": [
    "import sklearn.decomposition as sd\n",
    "import sklearn.preprocessing as sp\n",
    "acp = sd.PCA()\n",
    "X_acp = acp.fit_transform(sp.scale(TM_240))"
   ]
  },
  {
   "cell_type": "code",
   "execution_count": null,
   "metadata": {},
   "outputs": [],
   "source": [
    "fig = plt.figure(figsize=(15,10))\n",
    "ax = fig.add_subplot(1,2,1)\n",
    "ax.bar(range(10), acp.explained_variance_ratio_[:10]*100, align='center',\n",
    "        color='grey', ecolor='black')\n",
    "ax.set_xticks(range(10))\n",
    "ax.set_ylabel(\"Variance\")\n",
    "ax.set_title(\"\", fontsize=35)\n",
    "ax.set_title(\"Pourcentage de variance expliquee \\n des premieres composantes\", fontsize=20)\n",
    "\n",
    "ax = fig.add_subplot(1,2,2)\n",
    "box=ax.boxplot(X_acp[:,0:10])\n",
    "ax.set_title(\"Distribution des premieres composantes\", fontsize=20)\n"
   ]
  },
  {
   "cell_type": "code",
   "execution_count": null,
   "metadata": {
    "scrolled": false
   },
   "outputs": [],
   "source": [
    "fig = plt.figure(figsize=(15,10))\n",
    "ax = fig.add_subplot(1,2,1)\n",
    "labels=[]\n",
    "for x,y,s, a in zip(X_acp[:,0], X_acp[:,1], map(str,range(240)), anomalies):\n",
    "    ax.plot(x,y,marker=\".\", color=COLOR_DIC[a])\n",
    "    if a!=0:\n",
    "        label = ANOMALY_DIC[a]\n",
    "        ax.text(x,y,s, horizontalalignment=\"center\", verticalalignment=\"center\", color=COLOR_DIC[a])\n",
    "        if not(label in labels):\n",
    "            labels.append(label)\n",
    "            ax.plot(x,y,marker=\".\", color=COLOR_DIC[a], label = label, linestyle=\"None\")\n",
    "\n",
    "ax.set_title(\"Projection des invididus sur les \\n  deux premieres composantes\", fontsize=20)\n",
    "\n",
    "ax.set_xlim(X_acp[:,0].min()-5,X_acp[:,0].max()+5)\n",
    "ax.set_ylim(X_acp[:,1].min()-1,X_acp[:,1].max()+1)\n",
    "plt.legend(fontsize=15)\n",
    "\n",
    "ax = fig.add_subplot(1,2,2)\n",
    "for x,y,s in zip(acp.components_[0], acp.components_[1], map(str,range(256))):\n",
    "    ax.text(x,y,s, horizontalalignment=\"center\", verticalalignment=\"center\", color=\"red\")\n",
    "ax.set_xlim(acp.components_[0].min()-0.002,acp.components_[0].max()+0.002)\n",
    "ax.set_ylim(acp.components_[1].min()-0.01,acp.components_[1].max()+0.01)\n",
    "ax.set_title(\"Projection des features sur les \\n  deux premisres composantes\", fontsize=20)\n",
    "\n"
   ]
  },
  {
   "cell_type": "markdown",
   "metadata": {},
   "source": [
    "### Sur le jeu de données ne contenant pas d'anomalies: "
   ]
  },
  {
   "cell_type": "code",
   "execution_count": null,
   "metadata": {
    "collapsed": true
   },
   "outputs": [],
   "source": [
    "acp2 = sd.PCA()\n",
    "X_acp2 = acp2.fit_transform(sp.scale(TM_480[240:]))"
   ]
  },
  {
   "cell_type": "code",
   "execution_count": null,
   "metadata": {},
   "outputs": [],
   "source": [
    "fig = plt.figure(figsize=(15,10))\n",
    "ax = fig.add_subplot(1,2,1)\n",
    "ax.bar(range(10), acp2.explained_variance_ratio_[:10]*100, align='center',\n",
    "        color='grey', ecolor='black')\n",
    "ax.set_xticks(range(10))\n",
    "ax.set_ylabel(\"Variance\")\n",
    "ax.set_title(\"Pourcentage de variance expliquee \\n des premieres composantes\", fontsize=20)\n",
    "\n",
    "ax = fig.add_subplot(1,2,2)\n",
    "box=ax.boxplot(X_acp2[:,0:10])\n",
    "ax.set_title(\"Distribution des premieres composantes\", fontsize=20)\n"
   ]
  },
  {
   "cell_type": "code",
   "execution_count": null,
   "metadata": {},
   "outputs": [],
   "source": [
    "fig = plt.figure(figsize=(15,10))\n",
    "ax = fig.add_subplot(1,2,1)\n",
    "for x,y,s in zip(X_acp2[:,0], X_acp2[:,1], map(str,range(240))):\n",
    "    ax.plot(x,y, marker=\".\", color=\"black\")\n",
    "ax.set_xlim(X_acp2[:,0].min()-5,X_acp2[:,0].max()+5)\n",
    "ax.set_ylim(X_acp2[:,1].min()-1,X_acp2[:,1].max()+1)\n",
    "ax.set_title(\"Projection des invididus sur les \\n  deux premieres composantes\", fontsize=20)\n",
    "\n",
    "ax = fig.add_subplot(1,2,2)\n",
    "for x,y,s in zip(acp2.components_[0], acp2.components_[1], map(str,range(256))):\n",
    "    ax.text(x,y,s, horizontalalignment=\"center\", verticalalignment=\"center\", color=\"red\")\n",
    "ax.set_xlim(acp2.components_[0].min()-0.002,acp2.components_[0].max()+0.002)\n",
    "ax.set_ylim(acp2.components_[1].min()-0.01,acp2.components_[1].max()+0.01)\n",
    "ax.set_title(\"Projection des features sur les \\n  deux premieres composantes\", fontsize=20)\n"
   ]
  },
  {
   "cell_type": "markdown",
   "metadata": {},
   "source": [
    "# Définition des features \n",
    "\n",
    "Pour détecter les anomalies, on peut utiliser les données brutes, mais ce n'est pas toujours le plus efficace. On peut aussi essayer d'extraire de nouvelles  variables, appelées features, qui permettront peut-être de mettre davantage en lumière les anomalies. Pour cela, on peut par exemple utiliser les coefficients de la projection des données brutes sur des bases orthonormées : base de composantes principales, ou bases d'ondelettes. \n",
    "\n",
    "\n",
    "## Coefficients dans la base des composantes principales\n"
   ]
  },
  {
   "cell_type": "code",
   "execution_count": null,
   "metadata": {
    "collapsed": true
   },
   "outputs": [],
   "source": [
    "# Calcul des Features obtenues à l'aide de l'ACP : \n",
    "X_acp480 = acp.transform(TM_480)\n",
    "index_explained_varianc95 = np.where(np.cumsum(acp.explained_variance_ratio_)>0.95)[0][0]"
   ]
  },
  {
   "cell_type": "markdown",
   "metadata": {},
   "source": [
    "## Coefficients dans une base d'ondelettes"
   ]
  },
  {
   "cell_type": "code",
   "execution_count": null,
   "metadata": {},
   "outputs": [],
   "source": [
    "wf = \"haar\"\n",
    "\n",
    "Coeff = []\n",
    "TCoeff = []\n",
    "for x in TM_240:\n",
    "    #Apply wabvelet decomposition\n",
    "    coeffs = pywt.wavedec(x,wf,level=8)\n",
    "    coeffs_flatten = np.hstack(coeffs)\n",
    "    Coeff.append(coeffs_flatten)\n",
    "    # Compute universal Threshold http://jseabold.net/blog/2012/02/23/wavelet-regression-in-python/\n",
    "    sigma = mad(coeffs[-1])\n",
    "    uthresh = sigma*np.sqrt(2*np.log(256))\n",
    "    # Apply Threshold on 4 fist level\n",
    "    coeffs_thresh = [pywt.threshold(c, uthresh, mode=\"hard\") if i<=3 else c for i,c in enumerate(coeffs[::-1])]\n",
    "    coeffs_thresh_flatten = np.hstack(coeffs_thresh[::-1])\n",
    "    TCoeff.append(coeffs_thresh_flatten)\n",
    "    \n",
    "Coeff = np.array(Coeff)\n",
    "TCoeff = np.array(TCoeff)\n",
    "print(Coeff.shape, TCoeff.shape)\n",
    "print(np.sum(Coeff!=0), np.sum(TCoeff!=0))"
   ]
  },
  {
   "cell_type": "markdown",
   "metadata": {},
   "source": [
    "## Analyse en composantes principales sur les coefficients d'ondelettes"
   ]
  },
  {
   "cell_type": "markdown",
   "metadata": {},
   "source": [
    "### Ondelettes de niveau le plus fin J=7 "
   ]
  },
  {
   "cell_type": "code",
   "execution_count": null,
   "metadata": {
    "collapsed": true
   },
   "outputs": [],
   "source": [
    "acp3 = sd.PCA()\n",
    "X_acp3 = acp3.fit_transform(sp.scale(Coeff[:,128:]))"
   ]
  },
  {
   "cell_type": "code",
   "execution_count": null,
   "metadata": {},
   "outputs": [],
   "source": [
    "fig = plt.figure(figsize=(15,10))\n",
    "ax = fig.add_subplot(1,2,1)\n",
    "ax.bar(range(10), acp3.explained_variance_ratio_[:10]*100, align='center',\n",
    "        color='grey', ecolor='black')\n",
    "ax.set_xticks(range(10))\n",
    "ax.set_ylabel(\"Variance\")\n",
    "ax.set_title(\"Pourcentage de variance expliquee \\n des premieres composantes\", fontsize=20)\n",
    "\n",
    "ax = fig.add_subplot(1,2,2)\n",
    "box=ax.boxplot(X_acp3[:,0:10])\n",
    "ax.set_title(\"Distribution des premieres composantes\", fontsize=20)\n"
   ]
  },
  {
   "cell_type": "code",
   "execution_count": null,
   "metadata": {},
   "outputs": [],
   "source": [
    "fig = plt.figure(figsize=(15,10))\n",
    "ax = fig.add_subplot(1,2,1)\n",
    "labels=[]\n",
    "for x,y,s, a in zip(X_acp3[:,0], X_acp3[:,1], map(str,range(240)), anomalies):\n",
    "    ax.plot(x,y,marker=\".\", color=COLOR_DIC[a])\n",
    "    if a!=0:\n",
    "        label = ANOMALY_DIC[a]\n",
    "        ax.text(x,y,s, horizontalalignment=\"center\", verticalalignment=\"center\", color=COLOR_DIC[a])\n",
    "        if not(label in labels):\n",
    "            labels.append(label)\n",
    "            ax.plot(x,y,marker=\".\", color=COLOR_DIC[a], label = label, linestyle=\"None\")\n",
    "plt.legend(fontsize=15)\n",
    "ax.set_title(\"Projection des invididus sur les \\n  deux premieres composantes\", fontsize=20)\n",
    "\n",
    "\n",
    "ax = fig.add_subplot(1,2,2)\n",
    "for x,y,s in zip(acp3.components_[0], acp3.components_[1], map(str,range(256))):\n",
    "    ax.text(x,y,s, horizontalalignment=\"center\", verticalalignment=\"center\", color=\"red\")\n",
    "ax.set_xlim(acp3.components_[0].min()-0.002,acp3.components_[0].max()+0.002)\n",
    "ax.set_ylim(acp3.components_[1].min()-0.01,acp3.components_[1].max()+0.01)\n",
    "ax.set_title(\"Projection des features sur les \\n  deux premieres composantes\", fontsize=20)\n"
   ]
  },
  {
   "cell_type": "markdown",
   "metadata": {},
   "source": [
    "### coefficients des niveaux J=0 à  6"
   ]
  },
  {
   "cell_type": "code",
   "execution_count": null,
   "metadata": {
    "collapsed": true
   },
   "outputs": [],
   "source": [
    "acp4 = sd.PCA()\n",
    "X_acp4 = acp4.fit_transform(sp.scale(Coeff[:,:128]))"
   ]
  },
  {
   "cell_type": "code",
   "execution_count": null,
   "metadata": {},
   "outputs": [],
   "source": [
    "fig = plt.figure(figsize=(15,10))\n",
    "ax = fig.add_subplot(1,2,1)\n",
    "ax.bar(range(10), acp4.explained_variance_ratio_[:10]*100, align='center',\n",
    "        color='grey', ecolor='black')\n",
    "ax.set_xticks(range(10))\n",
    "ax.set_ylabel(\"Variance\")\n",
    "ax.set_title(\"Pourcentage de variance expliquee \\n des premieres composantes\", fontsize=20)\n",
    "\n",
    "ax = fig.add_subplot(1,2,2)\n",
    "box=ax.boxplot(X_acp4[:,0:10])\n",
    "ax.set_title(\"Distribution des premieres composantes\", fontsize=20)\n",
    "ax.set_title(\"Projection des features sur les \\n  deux premieres composantes\", fontsize=20)\n"
   ]
  },
  {
   "cell_type": "code",
   "execution_count": null,
   "metadata": {},
   "outputs": [],
   "source": [
    "fig = plt.figure(figsize=(15,10))\n",
    "ax = fig.add_subplot(1,2,1)\n",
    "labels=[]\n",
    "for x,y,s, a in zip(X_acp4[:,0], X_acp4[:,1], map(str,range(240)), anomalies):\n",
    "    ax.plot(x,y,marker=\".\", color=COLOR_DIC[a])\n",
    "    if a!=0:\n",
    "        label = ANOMALY_DIC[a]\n",
    "        ax.text(x,y,s, horizontalalignment=\"center\", verticalalignment=\"center\", color=COLOR_DIC[a])\n",
    "        if not(label in labels):\n",
    "            labels.append(label)\n",
    "            ax.plot(x,y,marker=\".\", color=COLOR_DIC[a], label = label, linestyle=\"None\")\n",
    "ax.set_title(\"Projection des invididus sur les \\n  deux premieres composantes\", fontsize=20)\n",
    "\n",
    "plt.legend(fontsize=15)\n",
    "\n",
    "ax = fig.add_subplot(1,2,2)\n",
    "for x,y,s in zip(acp4.components_[0], acp4.components_[1], map(str,range(256))):\n",
    "    ax.text(x,y,s, horizontalalignment=\"center\", verticalalignment=\"center\", color=\"red\")\n",
    "ax.set_xlim(acp4.components_[0].min()-0.002,acp4.components_[0].max()+0.002)\n",
    "ax.set_ylim(acp4.components_[1].min()-0.01,acp4.components_[1].max()+0.01)\n",
    "ax.set_title(\"Projection des features sur les \\n  deux premieres composantes\", fontsize=20)\n"
   ]
  },
  {
   "cell_type": "markdown",
   "metadata": {},
   "source": [
    "### coefficients seuillés : \n"
   ]
  },
  {
   "cell_type": "code",
   "execution_count": null,
   "metadata": {
    "collapsed": true
   },
   "outputs": [],
   "source": [
    "acp5 = sd.PCA()\n",
    "X_acp5 = acp5.fit_transform(sp.scale(TCoeff))"
   ]
  },
  {
   "cell_type": "code",
   "execution_count": null,
   "metadata": {},
   "outputs": [],
   "source": [
    "fig = plt.figure(figsize=(15,10))\n",
    "ax = fig.add_subplot(1,2,1)\n",
    "ax.bar(range(10), acp5.explained_variance_ratio_[:10]*100, align='center',\n",
    "        color='grey', ecolor='black')\n",
    "ax.set_xticks(range(10))\n",
    "ax.set_ylabel(\"Variance\")\n",
    "ax.set_title(\"Pourcentage de variance expliquee \\n des premieres composantes\", fontsize=20)\n",
    "\n",
    "ax = fig.add_subplot(1,2,2)\n",
    "box=ax.boxplot(X_acp5[:,0:10])\n",
    "ax.set_title(\"Distribution des premieres composantes\", fontsize=20)\n",
    "ax.set_title(\"Projection des features sur les \\n  deux premieres composantes\", fontsize=20)\n"
   ]
  },
  {
   "cell_type": "code",
   "execution_count": null,
   "metadata": {},
   "outputs": [],
   "source": [
    "fig = plt.figure(figsize=(15,10))\n",
    "ax = fig.add_subplot(1,2,1)\n",
    "labels=[]\n",
    "for x,y,s, a in zip(X_acp5[:,0], X_acp5[:,1], map(str,range(240)), anomalies):\n",
    "    ax.plot(x,y,marker=\".\", color=COLOR_DIC[a])\n",
    "    if a!=0:\n",
    "        label = ANOMALY_DIC[a]\n",
    "        ax.text(x,y,s, horizontalalignment=\"center\", verticalalignment=\"center\", color=COLOR_DIC[a])\n",
    "        if not(label in labels):\n",
    "            labels.append(label)\n",
    "            ax.plot(x,y,marker=\".\", color=COLOR_DIC[a], label = label, linestyle=\"None\")\n",
    "ax.set_title(\"Projection des invididus sur les \\n  deux premieres composantes\", fontsize=20)\n",
    "\n",
    "plt.legend(fontsize=15)\n",
    "\n",
    "ax = fig.add_subplot(1,2,2)\n",
    "for x,y,s in zip(acp5.components_[0], acp5.components_[1], map(str,range(256))):\n",
    "    ax.text(x,y,s, horizontalalignment=\"center\", verticalalignment=\"center\", color=\"red\")\n",
    "ax.set_xlim(acp5.components_[0].min()-0.002,acp5.components_[0].max()+0.002)\n",
    "ax.set_ylim(acp5.components_[1].min()-0.01,acp5.components_[1].max()+0.01)\n",
    "ax.set_title(\"Projection des features sur les \\n  deux premieres composantes\", fontsize=20)\n"
   ]
  },
  {
   "cell_type": "markdown",
   "metadata": {},
   "source": [
    "# Détection d'anomalies par différentes méthodes\n",
    "## Classicifation ascendante hierarchique\n",
    "### Jeu de données ne contenant pas d'anomalies"
   ]
  },
  {
   "cell_type": "code",
   "execution_count": null,
   "metadata": {},
   "outputs": [],
   "source": [
    "Z = sch.linkage(TM_480[240:], 'single')\n",
    "C = np.array([c[0] for c in sch.cut_tree(Z,5)])\n",
    "\n",
    "CT = pd.DataFrame(list(zip(C,np.zeros(240))), columns=[\"HCA_cluster\",\"Anomaly\"])\n",
    "display(pd.crosstab(CT.HCA_cluster, CT.Anomaly))"
   ]
  },
  {
   "cell_type": "code",
   "execution_count": null,
   "metadata": {
    "hide_input": true,
    "scrolled": false
   },
   "outputs": [],
   "source": [
    "plt.figure(figsize=(25, 10))\n",
    "plt.title('Hierarchical Clustering Dendrogram')\n",
    "plt.xlabel('sample index')\n",
    "plt.ylabel('distance')\n",
    "d = sch.dendrogram( Z,p=20, leaf_rotation=90.,leaf_font_size=8.,  # font size for the x axis labels\n",
    "              )\n",
    "plt.show()"
   ]
  },
  {
   "cell_type": "markdown",
   "metadata": {},
   "source": [
    "### #Classif Ascendante Hierarchique sur données brutes"
   ]
  },
  {
   "cell_type": "code",
   "execution_count": null,
   "metadata": {
    "scrolled": false
   },
   "outputs": [],
   "source": [
    "Z = sch.linkage(TM_240, 'single')\n",
    "C = np.array([c[0] for c in sch.cut_tree(Z,5)])\n",
    "\n",
    "CT = pd.DataFrame(list(zip(C,anomalies)), columns=[\"HCA_cluster\",\"Anomaly\"])\n",
    "display(pd.crosstab(CT.HCA_cluster, CT.Anomaly))\n"
   ]
  },
  {
   "cell_type": "code",
   "execution_count": null,
   "metadata": {},
   "outputs": [],
   "source": [
    "LABELS = [x if x in[25,219,5,69,133,200,155,97]   else \"\" for x in range(240) ]\n",
    "fig = plt.figure(figsize=(25, 10))\n",
    "sch.dendrogram( Z, p=20, leaf_rotation=45.,leaf_font_size=15,labels=LABELS, truncate_mode=\"level\"  # font size for the x axis labels\n",
    ")\n",
    "plt.title('Hierarchical Clustering Dendrogram')\n",
    "plt.xlabel('sample index')\n",
    "plt.ylabel('distance')\n",
    "\n",
    "ax =fig.get_axes()[0]\n",
    "xlbls = ax.get_xmajorticklabels()\n",
    "for lbl in xlbls:\n",
    "    if lbl.get_text() != \"\":\n",
    "        lbl.set_color(COLOR_DIC[anomalies[int(lbl.get_text().replace(\"(\",\"\").replace(\")\",\"\") )]])\n",
    "\n",
    "\n",
    "plt.show()"
   ]
  },
  {
   "cell_type": "markdown",
   "metadata": {},
   "source": [
    "### Classif Ascendante Hierarchique sur les  coefficients dans la base des composantes principales: \n"
   ]
  },
  {
   "cell_type": "code",
   "execution_count": null,
   "metadata": {},
   "outputs": [],
   "source": [
    "Z = sch.linkage(X_acp, 'single')\n",
    "C = np.array([c[0] for c in sch.cut_tree(Z,5)])\n",
    "\n",
    "CT = pd.DataFrame(list(zip(C,anomalies)), columns=[\"HCA_cluster\",\"Anomaly\"])\n",
    "display(pd.crosstab(CT.HCA_cluster, CT.Anomaly))\n"
   ]
  },
  {
   "cell_type": "code",
   "execution_count": null,
   "metadata": {},
   "outputs": [],
   "source": [
    "LABELS = [x if x in[25,219,5,69,133,200,155,97]   else \"\" for x in range(240) ]\n",
    "fig = plt.figure(figsize=(25, 10))\n",
    "sch.dendrogram( Z, p=20, leaf_rotation=45.,leaf_font_size=15,labels=LABELS, truncate_mode=\"level\"  # font size for the x axis labels\n",
    ")\n",
    "plt.title('Hierarchical Clustering Dendrogram')\n",
    "plt.xlabel('sample index')\n",
    "plt.ylabel('distance')\n",
    "\n",
    "ax =fig.get_axes()[0]\n",
    "xlbls = ax.get_xmajorticklabels()\n",
    "for lbl in xlbls:\n",
    "    if lbl.get_text() != \"\":\n",
    "        lbl.set_color(COLOR_DIC[anomalies[int(lbl.get_text().replace(\"(\",\"\").replace(\")\",\"\") )]])\n",
    "\n",
    "\n",
    "plt.show()"
   ]
  },
  {
   "cell_type": "markdown",
   "metadata": {},
   "source": [
    "### Classif Ascendante Hierarchique sur les  coefficients dans la base des premières composantes principales: \n"
   ]
  },
  {
   "cell_type": "code",
   "execution_count": null,
   "metadata": {
    "scrolled": false
   },
   "outputs": [],
   "source": [
    "Z = sch.linkage(X_acp[:,:index_explained_varianc95], 'single')\n",
    "C = np.array([c[0] for c in sch.cut_tree(Z,5)])\n",
    "\n",
    "CT = pd.DataFrame(list(zip(C,anomalies)), columns=[\"HCA_cluster\",\"Anomaly\"])\n",
    "display(pd.crosstab(CT.HCA_cluster, CT.Anomaly))"
   ]
  },
  {
   "cell_type": "code",
   "execution_count": null,
   "metadata": {},
   "outputs": [],
   "source": [
    "LABELS = [x if x in[25,219,5,69,133,200,155,97]   else \"\" for x in range(240) ]\n",
    "fig = plt.figure(figsize=(25, 10))\n",
    "sch.dendrogram( Z, p=20, leaf_rotation=45.,leaf_font_size=15,labels=LABELS, truncate_mode=\"level\"  # font size for the x axis labels\n",
    ")\n",
    "plt.title('Hierarchical Clustering Dendrogram')\n",
    "plt.xlabel('sample index')\n",
    "plt.ylabel('distance')\n",
    "\n",
    "ax =fig.get_axes()[0]\n",
    "xlbls = ax.get_xmajorticklabels()\n",
    "for lbl in xlbls:\n",
    "    if lbl.get_text() != \"\":\n",
    "        lbl.set_color(COLOR_DIC[anomalies[int(lbl.get_text().replace(\"(\",\"\").replace(\")\",\"\") )]])\n",
    "\n",
    "\n",
    "plt.show()"
   ]
  },
  {
   "cell_type": "markdown",
   "metadata": {},
   "source": [
    "### Classif Ascendante Hierarchique sur les  coefficients d'ondelettes: "
   ]
  },
  {
   "cell_type": "code",
   "execution_count": null,
   "metadata": {},
   "outputs": [],
   "source": [
    "Z = sch.linkage(Coeff, 'single')\n",
    "C = np.array([c[0] for c in sch.cut_tree(Z,5)])\n",
    "\n",
    "CT = pd.DataFrame(list(zip(C,anomalies)), columns=[\"HCA_cluster\",\"Anomaly\"])\n",
    "display(pd.crosstab(CT.HCA_cluster, CT.Anomaly))"
   ]
  },
  {
   "cell_type": "code",
   "execution_count": null,
   "metadata": {},
   "outputs": [],
   "source": [
    "LABELS = [x if x in[25,219,5,69,133,200,155,97]   else \"\" for x in range(240) ]\n",
    "fig = plt.figure(figsize=(25, 10))\n",
    "sch.dendrogram( Z, p=20, leaf_rotation=45.,leaf_font_size=15,labels=LABELS, truncate_mode=\"level\"  # font size for the x axis labels\n",
    ")\n",
    "plt.title('Hierarchical Clustering Dendrogram')\n",
    "plt.xlabel('sample index')\n",
    "plt.ylabel('distance')\n",
    "\n",
    "ax =fig.get_axes()[0]\n",
    "xlbls = ax.get_xmajorticklabels()\n",
    "for lbl in xlbls:\n",
    "    if lbl.get_text() != \"\":\n",
    "        lbl.set_color(COLOR_DIC[anomalies[int(lbl.get_text().replace(\"(\",\"\").replace(\")\",\"\") )]])\n",
    "\n",
    "\n",
    "plt.show()"
   ]
  },
  {
   "cell_type": "markdown",
   "metadata": {},
   "source": [
    "### Classif Ascendante Hierarchique sur les  coefficients d'ondelettes de niveau le plus fin: \n"
   ]
  },
  {
   "cell_type": "code",
   "execution_count": null,
   "metadata": {},
   "outputs": [],
   "source": [
    "Z = sch.linkage(Coeff[:,128:], 'single')\n",
    "C = np.array([c[0] for c in sch.cut_tree(Z,5)])\n",
    "\n",
    "CT = pd.DataFrame(list(zip(C,anomalies)), columns=[\"HCA_cluster\",\"Anomaly\"])\n",
    "display(pd.crosstab(CT.HCA_cluster, CT.Anomaly))"
   ]
  },
  {
   "cell_type": "code",
   "execution_count": null,
   "metadata": {},
   "outputs": [],
   "source": [
    "LABELS = [x if x in[25,219,5,69,133,200,155,97]   else \"\" for x in range(240) ]\n",
    "fig = plt.figure(figsize=(25, 10))\n",
    "sch.dendrogram( Z, p=20, leaf_rotation=45.,leaf_font_size=15,labels=LABELS, truncate_mode=\"level\"  # font size for the x axis labels\n",
    ")\n",
    "plt.title('Hierarchical Clustering Dendrogram')\n",
    "plt.xlabel('sample index')\n",
    "plt.ylabel('distance')\n",
    "\n",
    "ax =fig.get_axes()[0]\n",
    "xlbls = ax.get_xmajorticklabels()\n",
    "for lbl in xlbls:\n",
    "    if lbl.get_text() != \"\":\n",
    "        lbl.set_color(COLOR_DIC[anomalies[int(lbl.get_text().replace(\"(\",\"\").replace(\")\",\"\") )]])\n",
    "\n",
    "\n",
    "plt.show()"
   ]
  },
  {
   "cell_type": "markdown",
   "metadata": {},
   "source": [
    "### Classif Ascendante Hierarchique sur les  coefficients d'ondelettes de niveaux 0 à 6 \n"
   ]
  },
  {
   "cell_type": "code",
   "execution_count": null,
   "metadata": {},
   "outputs": [],
   "source": [
    "Z = sch.linkage(Coeff[:,:128], 'single')\n",
    "C = np.array([c[0] for c in sch.cut_tree(Z,5)])\n",
    "\n",
    "CT = pd.DataFrame(list(zip(C,anomalies)), columns=[\"HCA_cluster\",\"Anomaly\"])\n",
    "display(pd.crosstab(CT.HCA_cluster, CT.Anomaly))"
   ]
  },
  {
   "cell_type": "code",
   "execution_count": null,
   "metadata": {},
   "outputs": [],
   "source": [
    "LABELS = [x if x in[25,219,5,69,133,200,155,97]   else \"\" for x in range(240) ]\n",
    "fig = plt.figure(figsize=(25, 10))\n",
    "sch.dendrogram( Z, p=20, leaf_rotation=45.,leaf_font_size=15,labels=LABELS, truncate_mode=\"level\"  # font size for the x axis labels\n",
    ")\n",
    "plt.title('Hierarchical Clustering Dendrogram')\n",
    "plt.xlabel('sample index')\n",
    "plt.ylabel('distance')\n",
    "\n",
    "ax =fig.get_axes()[0]\n",
    "xlbls = ax.get_xmajorticklabels()\n",
    "for lbl in xlbls:\n",
    "    if lbl.get_text() != \"\":\n",
    "        lbl.set_color(COLOR_DIC[anomalies[int(lbl.get_text().replace(\"(\",\"\").replace(\")\",\"\") )]])\n",
    "\n",
    "\n",
    "plt.show()"
   ]
  },
  {
   "cell_type": "markdown",
   "metadata": {},
   "source": [
    "### Classif Ascendante Hierarchique sur les  coefficients d'ondelettes  seuillés \n"
   ]
  },
  {
   "cell_type": "code",
   "execution_count": null,
   "metadata": {},
   "outputs": [],
   "source": [
    "Z = sch.linkage(TCoeff, 'single')\n",
    "C = np.array([c[0] for c in sch.cut_tree(Z,5)])\n",
    "\n",
    "CT = pd.DataFrame(list(zip(C,anomalies)), columns=[\"HCA_cluster\",\"Anomaly\"])\n",
    "display(pd.crosstab(CT.HCA_cluster, CT.Anomaly))"
   ]
  },
  {
   "cell_type": "code",
   "execution_count": null,
   "metadata": {},
   "outputs": [],
   "source": [
    "LABELS = [x if x in[25,219,5,69,133,200,155,97]   else \"\" for x in range(240) ]\n",
    "fig = plt.figure(figsize=(25, 10))\n",
    "sch.dendrogram( Z, p=20, leaf_rotation=45.,leaf_font_size=15,labels=LABELS, truncate_mode=\"level\"  # font size for the x axis labels\n",
    ")\n",
    "plt.title('Hierarchical Clustering Dendrogram')\n",
    "plt.xlabel('sample index')\n",
    "plt.ylabel('distance')\n",
    "\n",
    "ax =fig.get_axes()[0]\n",
    "xlbls = ax.get_xmajorticklabels()\n",
    "for lbl in xlbls:\n",
    "    if lbl.get_text() != \"\":\n",
    "        lbl.set_color(COLOR_DIC[anomalies[int(lbl.get_text().replace(\"(\",\"\").replace(\")\",\"\") )]])\n",
    "\n",
    "\n",
    "plt.show()"
   ]
  },
  {
   "cell_type": "markdown",
   "metadata": {},
   "source": [
    "** Q ** Comparer les résultats. Quelles jeux de features donnent des résultats comparables ? Lequel donne des résultats différents. Ceci est-il cohérent avec les types d'anomalies considérées ? "
   ]
  },
  {
   "cell_type": "markdown",
   "metadata": {},
   "source": [
    "## One Class SVM\n",
    "\n",
    "### Avec les coefficients dans la base des composantes principales"
   ]
  },
  {
   "cell_type": "code",
   "execution_count": null,
   "metadata": {
    "hide_input": true
   },
   "outputs": [],
   "source": [
    "import sklearn.svm as ssvm\n",
    "OCS = ssvm.OneClassSVM(nu=0.05)\n",
    "\n",
    "OCS.fit(X_acp[:,:2])\n",
    "pred = OCS.predict(X_acp[:,:2])\n",
    "\n",
    "CT_svm_ACP = pd.DataFrame(list(zip(pred,anomalies)), columns=[\"pred\",\"Anomaly\"])\n",
    "display(pd.crosstab(CT_svm_ACP.pred, CT_svm_ACP.Anomaly))"
   ]
  },
  {
   "cell_type": "markdown",
   "metadata": {},
   "source": [
    "#### Illustration fonctionement One Class SVM sur les deux premières composantes de l'ACP"
   ]
  },
  {
   "cell_type": "code",
   "execution_count": null,
   "metadata": {
    "hide_input": true
   },
   "outputs": [],
   "source": [
    "xx, yy = np.meshgrid(np.linspace(X_acp[:,0].min()-5, X_acp[:,0].max()+5, 500), \n",
    "                     np.linspace(X_acp[:,1].min()-1, X_acp[:,1].max()+1, 500))\n",
    "\n",
    "nu = 0.05\n",
    "# fit the model\n",
    "clf = ssvm.OneClassSVM(nu=nu, kernel=\"rbf\", gamma=0.1)\n",
    "clf.fit(X_acp[:,:2])\n",
    "y_pred_train = clf.predict(X_acp[:,:2])\n",
    "\n",
    "# plot the line, the points, and the nearest vectors to the plane\n",
    "Z = clf.decision_function(np.c_[xx.ravel(), yy.ravel()])\n",
    "Z = Z.reshape(xx.shape)\n",
    "\n",
    "fig = plt.figure(figsize=(15,10))\n",
    "ax = fig.add_subplot(1,2,1)\n",
    "ax.set_title(\"Novelty Detection : nu=%.1f\" %nu)\n",
    "ax.contourf(xx, yy, Z, levels=[Z.min(), 0, Z.max()], cmap=plt.cm.PuBu)\n",
    "a = ax.contour(xx, yy, Z, levels=[0], linewidths=2, colors='darkred')\n",
    "\n",
    "s = 40\n",
    "b1 = plt.scatter(X_acp[:,0], X_acp[:,1], c='white', s=s, edgecolors='k')\n",
    "labels=[]\n",
    "for x,y,ss, a in zip(X_acp[:,0], X_acp[:,1], map(str,range(240)), anomalies):\n",
    "    ax.scatter(x,y, c=COLOR_DIC[a],  s=s, edgecolors='k')\n",
    "    if a!=0:\n",
    "        label = ANOMALY_DIC[a]\n",
    "        ax.text(x,y,ss, horizontalalignment=\"center\", verticalalignment=\"center\", color=COLOR_DIC[a])\n",
    "        if not(label in labels):\n",
    "            labels.append(label)\n",
    "            ax.plot(x,y,marker=\".\", color=COLOR_DIC[a], label = label, linestyle=\"None\")\n",
    "\n",
    "\n",
    "plt.axis('tight')\n",
    "ax.set_xlim(X_acp[:,0].min()-5,X_acp[:,0].max()+5)\n",
    "ax.set_ylim(X_acp[:,1].min()-1,X_acp[:,1].max()+1)\n",
    "plt.legend()\n",
    "\n",
    "\n",
    "nu = 0.9\n",
    "# fit the model\n",
    "clf = ssvm.OneClassSVM(nu=nu, kernel=\"rbf\", gamma=0.1)\n",
    "clf.fit(X_acp[:,:2])\n",
    "y_pred_train = clf.predict(X_acp[:,:2])\n",
    "\n",
    "# plot the line, the points, and the nearest vectors to the plane\n",
    "Z = clf.decision_function(np.c_[xx.ravel(), yy.ravel()])\n",
    "Z = Z.reshape(xx.shape)\n",
    "\n",
    "ax = fig.add_subplot(1,2,2)\n",
    "ax.set_title(\"Novelty Detection : nu=%.1f\" %nu)\n",
    "ax.contourf(xx, yy, Z, levels=[Z.min(), 0, Z.max()], cmap=plt.cm.PuBu)\n",
    "a = ax.contour(xx, yy, Z, levels=[0], linewidths=2, colors='darkred')\n",
    "\n",
    "s = 40\n",
    "b1 = plt.scatter(X_acp[:,0], X_acp[:,1], c='white', s=s, edgecolors='k')\n",
    "labels=[]\n",
    "for x,y,ss, a in zip(X_acp[:,0], X_acp[:,1], map(str,range(240)), anomalies):\n",
    "    ax.scatter(x,y, c=COLOR_DIC[a],  s=s, edgecolors='k')\n",
    "    if a!=0:\n",
    "        label = ANOMALY_DIC[a]\n",
    "        ax.text(x,y,ss, horizontalalignment=\"center\", verticalalignment=\"center\", color=COLOR_DIC[a])\n",
    "        if not(label in labels):\n",
    "            labels.append(label)\n",
    "            ax.plot(x,y,marker=\".\", color=COLOR_DIC[a], label = label, linestyle=\"None\")\n",
    "\n",
    "\n",
    "plt.axis('tight')\n",
    "ax.set_xlim(X_acp[:,0].min()-5,X_acp[:,0].max()+5)\n",
    "ax.set_ylim(X_acp[:,1].min()-1,X_acp[:,1].max()+1)\n",
    "plt.legend()\n"
   ]
  },
  {
   "cell_type": "markdown",
   "metadata": {},
   "source": [
    "** Q. ** Commenter les résultats et tracer les courbes présentant des anomalies qui sont détectées et celles qui ne le sont pas, ainsi que les fausses alarmes. "
   ]
  },
  {
   "cell_type": "markdown",
   "metadata": {},
   "source": [
    "### Avec les coefficients d'ondelettes de niveau le plus fin"
   ]
  },
  {
   "cell_type": "code",
   "execution_count": null,
   "metadata": {
    "hide_input": true
   },
   "outputs": [],
   "source": [
    "import sklearn.svm as ssvm\n",
    "OCS = ssvm.OneClassSVM(nu=0.05)\n",
    "\n",
    "OCS.fit(Coeff[:,128:])\n",
    "pred = OCS.predict(Coeff[:,128:])\n",
    "\n",
    "CT_svm_ond_fin = pd.DataFrame(list(zip(pred,anomalies)), columns=[\"pred\",\"Anomaly\"])\n",
    "display(pd.crosstab(CT_svm_ond_fin.pred, CT_svm_ond_fin.Anomaly))"
   ]
  },
  {
   "cell_type": "markdown",
   "metadata": {},
   "source": [
    "### Avec les coefficients d'ondelettes de niveau 0 à 6"
   ]
  },
  {
   "cell_type": "code",
   "execution_count": null,
   "metadata": {
    "hide_input": true
   },
   "outputs": [],
   "source": [
    "import sklearn.svm as ssvm\n",
    "OCS = ssvm.OneClassSVM(nu=0.05)\n",
    "\n",
    "OCS.fit(Coeff[:,:128])\n",
    "pred = OCS.predict(Coeff[:,:128])\n",
    "\n",
    "CT_svm_ond_06 = pd.DataFrame(list(zip(pred,anomalies)), columns=[\"pred\",\"Anomaly\"])\n",
    "display(pd.crosstab(CT_svm_ond_06.pred, CT_svm_ond_06.Anomaly))"
   ]
  },
  {
   "cell_type": "markdown",
   "metadata": {},
   "source": [
    "** Q. ** Commenter les résultats obtenus avec les coefficients d'ondelettes et retrouvez quelles sont les courbes atypiques qui sont détectées ainsi que les \"faux positifs\". "
   ]
  },
  {
   "cell_type": "markdown",
   "metadata": {},
   "source": [
    "## Local Outlier Factor\n",
    "### Avec les coefficients dans la base des composantes principales"
   ]
  },
  {
   "cell_type": "code",
   "execution_count": null,
   "metadata": {},
   "outputs": [],
   "source": [
    "contamination=0.033\n",
    "metric = \"euclidean\"\n",
    "clf = sn.LocalOutlierFactor(n_neighbors=5, contamination=contamination, metric=metric)\n",
    "y_pred = clf.fit_predict(X_acp)\n",
    "\n",
    "CT_lof_ACP = pd.DataFrame(list(zip(y_pred,anomalies)), columns=[\"pred\",\"Anomaly\"])\n",
    "display(pd.crosstab(CT_lof_ACP.pred, CT_lof_ACP.Anomaly))"
   ]
  },
  {
   "cell_type": "markdown",
   "metadata": {},
   "source": [
    "### Avec les coefficients dans la base des composantes principales pour les deux premières composantes"
   ]
  },
  {
   "cell_type": "code",
   "execution_count": null,
   "metadata": {},
   "outputs": [],
   "source": [
    "contamination=0.033\n",
    "metric = \"euclidean\"\n",
    "clf = sn.LocalOutlierFactor(n_neighbors=5, contamination=contamination, metric=metric)\n",
    "y_pred = clf.fit_predict(X_acp[:,:2])\n",
    "\n",
    "CT_lof_ACP2 = pd.DataFrame(list(zip(y_pred,anomalies)), columns=[\"pred\",\"Anomaly\"])\n",
    "display(pd.crosstab(CT_lof_ACP2.pred, CT_lof_ACP2.Anomaly))"
   ]
  },
  {
   "cell_type": "markdown",
   "metadata": {},
   "source": [
    "#### Illustration fonctionement Local Outlier Factor sur les deux premières composantes de l'ACP"
   ]
  },
  {
   "cell_type": "code",
   "execution_count": null,
   "metadata": {},
   "outputs": [],
   "source": [
    "fig = plt.figure(figsize=(15,10))\n",
    "\n",
    "ax = fig.add_subplot(1,2,1)\n",
    "\n",
    "# fit the model\n",
    "n_neighbors = 5\n",
    "clf = sn.LocalOutlierFactor(n_neighbors=n_neighbors, contamination=contamination, metric = metric)\n",
    "y_pred = clf.fit_predict(X_acp[:,:2])\n",
    "\n",
    "# plot the level sets of the decision function\n",
    "xx, yy = np.meshgrid(np.linspace(X_acp[:,0].min()-5, X_acp[:,0].max()+5, 500), \n",
    "                     np.linspace(X_acp[:,1].min()-1, X_acp[:,1].max()+1, 500))\n",
    "Z = clf._decision_function(np.c_[xx.ravel(), yy.ravel()])\n",
    "Z = Z.reshape(xx.shape)\n",
    "ax.set_title(\"Local Outlier Factor (LOF), n_neighbors = %d\" %n_neighbors)\n",
    "ax.contourf(xx, yy, Z, levels=[Z.min(), clf.offset_, Z.max()], cmap = plt.cm.PuBu)\n",
    "\n",
    "\n",
    "s = 40\n",
    "b1 = plt.scatter(X_acp[:,0], X_acp[:,1], c='white', s=s, edgecolors='k')\n",
    "labels=[]\n",
    "for x,y,ss, a in zip(X_acp[:,0], X_acp[:,1], map(str,range(240)), anomalies):\n",
    "    ax.scatter(x,y, c=COLOR_DIC[a],  s=s, edgecolors='k')\n",
    "    if a!=0:\n",
    "        label = ANOMALY_DIC[a]\n",
    "        ax.text(x,y,ss, horizontalalignment=\"center\", verticalalignment=\"center\", color=COLOR_DIC[a])\n",
    "        if not(label in labels):\n",
    "            labels.append(label)\n",
    "            ax.plot(x,y,marker=\".\", color=COLOR_DIC[a], label = label, linestyle=\"None\")\n",
    "plt.legend()\n",
    "\n",
    "\n",
    "ax = fig.add_subplot(1,2,2)\n",
    "\n",
    "# fit the model\n",
    "n_neighbors = 20\n",
    "clf = sn.LocalOutlierFactor(n_neighbors=n_neighbors, contamination=contamination, metric = metric)\n",
    "y_pred = clf.fit_predict(X_acp[:,:2])\n",
    "\n",
    "# plot the level sets of the decision function\n",
    "xx, yy = np.meshgrid(np.linspace(X_acp[:,0].min()-5, X_acp[:,0].max()+5, 500), \n",
    "                     np.linspace(X_acp[:,1].min()-1, X_acp[:,1].max()+1, 500))\n",
    "Z = clf._decision_function(np.c_[xx.ravel(), yy.ravel()])\n",
    "Z = Z.reshape(xx.shape)\n",
    "ax.set_title(\"Local Outlier Factor (LOF), n_neighbors = %d\" %n_neighbors)\n",
    "ax.contourf(xx, yy, Z, levels=[Z.min(), clf.offset_, Z.max()], cmap = plt.cm.PuBu)\n",
    "\n",
    "\n",
    "s = 40\n",
    "b1 = plt.scatter(X_acp[:,0], X_acp[:,1], c='white', s=s, edgecolors='k')\n",
    "labels=[]\n",
    "for x,y,ss, a in zip(X_acp[:,0], X_acp[:,1], map(str,range(240)), anomalies):\n",
    "    ax.scatter(x,y, c=COLOR_DIC[a],  s=s, edgecolors='k')\n",
    "    if a!=0:\n",
    "        label = ANOMALY_DIC[a]\n",
    "        ax.text(x,y,ss, horizontalalignment=\"center\", verticalalignment=\"center\", color=COLOR_DIC[a])\n",
    "        if not(label in labels):\n",
    "            labels.append(label)\n",
    "            ax.plot(x,y,marker=\".\", color=COLOR_DIC[a], label = label, linestyle=\"None\")\n",
    "plt.legend()"
   ]
  },
  {
   "cell_type": "markdown",
   "metadata": {},
   "source": [
    "### Avec les données brutes "
   ]
  },
  {
   "cell_type": "code",
   "execution_count": null,
   "metadata": {},
   "outputs": [],
   "source": [
    "contamination=0.033\n",
    "metric = \"euclidean\"\n",
    "clf = sn.LocalOutlierFactor(n_neighbors=5, contamination=contamination, metric=metric)\n",
    "y_pred = clf.fit_predict(TM_240)\n",
    "\n",
    "CT_lof_brut = pd.DataFrame(list(zip(y_pred,anomalies)), columns=[\"pred\",\"Anomaly\"])\n",
    "display(pd.crosstab(CT_lof_brut.pred, CT_lof_brut.Anomaly))"
   ]
  },
  {
   "cell_type": "markdown",
   "metadata": {},
   "source": [
    "** Q. ** Commenter ces résultats et retrouvez quelles sont les courbes atypiques qui sont détectées ainsi que les \"faux positifs\""
   ]
  },
  {
   "cell_type": "markdown",
   "metadata": {},
   "source": [
    "### Avec tous les coefficients d'ondelettes"
   ]
  },
  {
   "cell_type": "code",
   "execution_count": null,
   "metadata": {
    "code_folding": []
   },
   "outputs": [],
   "source": [
    "contamination=0.033\n",
    "metric = \"euclidean\"\n",
    "clf = sn.LocalOutlierFactor(n_neighbors=5, contamination=contamination, metric=metric)\n",
    "y_pred = clf.fit_predict(Coeff)\n",
    "\n",
    "CT_lof_ond_all = pd.DataFrame(list(zip(y_pred,anomalies)), columns=[\"pred\",\"Anomaly\"])\n",
    "display(pd.crosstab(CT_lof_ond_all.pred, CT_lof_ond_all.Anomaly))"
   ]
  },
  {
   "cell_type": "markdown",
   "metadata": {},
   "source": [
    "### Avec les coefficients d'ondelettes de Niveau le plus fin"
   ]
  },
  {
   "cell_type": "code",
   "execution_count": null,
   "metadata": {},
   "outputs": [],
   "source": [
    "contamination=0.033\n",
    "metric = \"euclidean\"\n",
    "clf = sn.LocalOutlierFactor(n_neighbors=5, contamination=contamination, metric=metric)\n",
    "y_pred = clf.fit_predict(Coeff[:,128:])\n",
    "\n",
    "CT_lof_ond_fin = pd.DataFrame(list(zip(y_pred,anomalies)), columns=[\"pred\",\"Anomaly\"])\n",
    "display(pd.crosstab(CT_lof_ond_fin.pred, CT_lof_ond_fin.Anomaly))"
   ]
  },
  {
   "cell_type": "markdown",
   "metadata": {},
   "source": [
    "### Avec les coefficients d'ondelettes de 1 à 6"
   ]
  },
  {
   "cell_type": "code",
   "execution_count": null,
   "metadata": {},
   "outputs": [],
   "source": [
    "contamination=0.033\n",
    "metric = \"euclidean\"\n",
    "clf = sn.LocalOutlierFactor(n_neighbors=5, contamination=contamination, metric=metric)\n",
    "y_pred = clf.fit_predict(Coeff[:,:128])\n",
    "\n",
    "CT_lof_ond_06 = pd.DataFrame(list(zip(y_pred,anomalies)), columns=[\"pred\",\"Anomaly\"])\n",
    "display(pd.crosstab(CT_lof_ond_06.pred, CT_lof_ond_06.Anomaly))"
   ]
  },
  {
   "cell_type": "markdown",
   "metadata": {},
   "source": [
    "### Avec les coefficients d'ondelettes seuillés"
   ]
  },
  {
   "cell_type": "code",
   "execution_count": null,
   "metadata": {},
   "outputs": [],
   "source": [
    "contamination=0.033\n",
    "metric = \"euclidean\"\n",
    "clf = sn.LocalOutlierFactor(n_neighbors=5, contamination=contamination, metric=metric)\n",
    "y_pred = clf.fit_predict(TCoeff)\n",
    "\n",
    "CT_lof_ond_seuil = pd.DataFrame(list(zip(y_pred,anomalies)), columns=[\"pred\",\"Anomaly\"])\n",
    "display(pd.crosstab(CT_lof_ond_seuil.pred, CT_lof_ond_seuil.Anomaly))"
   ]
  },
  {
   "cell_type": "markdown",
   "metadata": {},
   "source": [
    "## Isolation Forest\n",
    "### Avec les coefficients dans la base des composantes principales"
   ]
  },
  {
   "cell_type": "code",
   "execution_count": null,
   "metadata": {},
   "outputs": [],
   "source": [
    "clf = se.IsolationForest(n_estimators=100, contamination=0.033, bootstrap=True, n_jobs=-1)\n",
    "clf.fit(X_acp)\n",
    "y_pred = clf.predict(X_acp)\n",
    "\n",
    "CT_IF_ACP = pd.DataFrame(list(zip(y_pred,anomalies)), columns=[\"pred\",\"Anomaly\"])\n",
    "display(pd.crosstab(CT_IF_ACP.pred, CT_IF_ACP.Anomaly))"
   ]
  },
  {
   "cell_type": "markdown",
   "metadata": {},
   "source": [
    "### Avec les coefficients dans la base des composantes principales pour les deux premières composantes\n"
   ]
  },
  {
   "cell_type": "code",
   "execution_count": null,
   "metadata": {},
   "outputs": [],
   "source": [
    "clf = se.IsolationForest(n_estimators=100, contamination=0.033, bootstrap=True, n_jobs=-1)\n",
    "clf.fit(X_acp[:,:2])\n",
    "y_pred = clf.predict(X_acp[:,:2])\n",
    "\n",
    "CT_IF_ACP2 = pd.DataFrame(list(zip(y_pred,anomalies)), columns=[\"pred\",\"Anomaly\"])\n",
    "display(pd.crosstab(CT_IF_ACP2.pred, CT_IF_ACP2.Anomaly))"
   ]
  },
  {
   "cell_type": "markdown",
   "metadata": {},
   "source": [
    "#### Illustration fonctionement Isolation Forest sur les deux premières composantes de l'ACP"
   ]
  },
  {
   "cell_type": "code",
   "execution_count": null,
   "metadata": {},
   "outputs": [],
   "source": [
    "fig = plt.figure(figsize=(15,10))\n",
    "\n",
    "ax = fig.add_subplot(1,2,1)\n",
    "\n",
    "# fit the model\n",
    "contamination=0.033\n",
    "clf = se.IsolationForest(n_estimators=100, contamination=contamination, bootstrap=True, n_jobs=-1)\n",
    "clf.fit(X_acp[:,:2])\n",
    "y_pred = clf.predict(X_acp[:,:2])\n",
    "\n",
    "\n",
    "# plot the level sets of the decision function\n",
    "xx, yy = np.meshgrid(np.linspace(X_acp[:,0].min()-5, X_acp[:,0].max()+5, 500), \n",
    "                     np.linspace(X_acp[:,1].min()-1, X_acp[:,1].max()+1, 500))\n",
    "Z = clf.decision_function(np.c_[xx.ravel(), yy.ravel()])\n",
    "Z = Z.reshape(xx.shape)\n",
    "ax.set_title(\"Isolation Forest, contamination = %.3f\" %contamination)\n",
    "ax.contourf(xx, yy, Z, levels=[Z.min(), clf.threshold_, Z.max()], cmap = plt.cm.PuBu)\n",
    "\n",
    "s = 40\n",
    "b1 = plt.scatter(X_acp[:,0], X_acp[:,1], c='white', s=s, edgecolors='k')\n",
    "labels=[]\n",
    "for x,y,ss, a in zip(X_acp[:,0], X_acp[:,1], map(str,range(240)), anomalies):\n",
    "    ax.scatter(x,y, c=COLOR_DIC[a],  s=s, edgecolors='k')\n",
    "    if a!=0:\n",
    "        label = ANOMALY_DIC[a]\n",
    "        ax.text(x,y,ss, horizontalalignment=\"center\", verticalalignment=\"center\", color=COLOR_DIC[a])\n",
    "        if not(label in labels):\n",
    "            labels.append(label)\n",
    "            ax.plot(x,y,marker=\".\", color=COLOR_DIC[a], label = label, linestyle=\"None\")\n",
    "plt.legend()\n",
    "\n",
    "\n",
    "ax = fig.add_subplot(1,2,2)\n",
    "\n",
    "# fit the model\n",
    "contamination=0.05\n",
    "clf = se.IsolationForest(n_estimators=100, contamination=contamination, bootstrap=True, n_jobs=-1)\n",
    "clf.fit(X_acp[:,:2])\n",
    "y_pred = clf.predict(X_acp[:,:2])\n",
    "\n",
    "# plot the level sets of the decision function\n",
    "xx, yy = np.meshgrid(np.linspace(X_acp[:,0].min()-5, X_acp[:,0].max()+5, 500), \n",
    "                     np.linspace(X_acp[:,1].min()-1, X_acp[:,1].max()+1, 500))\n",
    "Z = clf.decision_function(np.c_[xx.ravel(), yy.ravel()])\n",
    "Z = Z.reshape(xx.shape)\n",
    "ax.set_title(\"Isolation Forest, contamination = %.3f\" %contamination)\n",
    "ax.contourf(xx, yy, Z, levels=[Z.min(), clf.threshold_, Z.max()], cmap = plt.cm.PuBu)\n",
    "\n",
    "\n",
    "s = 40\n",
    "b1 = plt.scatter(X_acp[:,0], X_acp[:,1], c='white', s=s, edgecolors='k')\n",
    "labels=[]\n",
    "for x,y,ss, a in zip(X_acp[:,0], X_acp[:,1], map(str,range(240)), anomalies):\n",
    "    ax.scatter(x,y, c=COLOR_DIC[a],  s=s, edgecolors='k')\n",
    "    if a!=0:\n",
    "        label = ANOMALY_DIC[a]\n",
    "        ax.text(x,y,ss, horizontalalignment=\"center\", verticalalignment=\"center\", color=COLOR_DIC[a])\n",
    "        if not(label in labels):\n",
    "            labels.append(label)\n",
    "            ax.plot(x,y,marker=\".\", color=COLOR_DIC[a], label = label, linestyle=\"None\")\n",
    "plt.legend()"
   ]
  },
  {
   "cell_type": "markdown",
   "metadata": {},
   "source": [
    "### Avec les données brutes "
   ]
  },
  {
   "cell_type": "code",
   "execution_count": null,
   "metadata": {},
   "outputs": [],
   "source": [
    "clf = se.IsolationForest(n_estimators=100, contamination=0.033, bootstrap=True, n_jobs=-1)\n",
    "clf.fit(TM_240)\n",
    "y_pred = clf.predict(TM_240)\n",
    "\n",
    "CT_IF_brut = pd.DataFrame(list(zip(y_pred,anomalies)), columns=[\"pred\",\"Anomaly\"])\n",
    "display(pd.crosstab(CT_IF_brut.pred, CT_IF_brut.Anomaly))"
   ]
  },
  {
   "cell_type": "markdown",
   "metadata": {},
   "source": [
    "### Avec tous les coefficients d'ondelettes"
   ]
  },
  {
   "cell_type": "code",
   "execution_count": null,
   "metadata": {},
   "outputs": [],
   "source": [
    "clf = se.IsolationForest(n_estimators=100, contamination=0.033, bootstrap=True, n_jobs=-1)\n",
    "clf.fit(Coeff)\n",
    "y_pred = clf.predict(Coeff)\n",
    "\n",
    "CT_IF_ond = pd.DataFrame(list(zip(y_pred,anomalies)), columns=[\"pred\",\"Anomaly\"])\n",
    "display(pd.crosstab(CT_IF_ond.pred, CT_IF_ond.Anomaly))"
   ]
  },
  {
   "cell_type": "markdown",
   "metadata": {},
   "source": [
    "### Avec les coefficients d'ondelettes de niveau le plus fin"
   ]
  },
  {
   "cell_type": "code",
   "execution_count": null,
   "metadata": {},
   "outputs": [],
   "source": [
    "clf = se.IsolationForest(n_estimators=100, contamination=0.033, bootstrap=True, n_jobs=-1)\n",
    "clf.fit(Coeff[:,128:])\n",
    "y_pred = clf.predict(Coeff[:,128:])\n",
    "\n",
    "CT_IF_ond_fin = pd.DataFrame(list(zip(y_pred,anomalies)), columns=[\"pred\",\"Anomaly\"])\n",
    "display(pd.crosstab(CT_IF_ond_fin.pred, CT_IF_ond_fin.Anomaly))"
   ]
  },
  {
   "cell_type": "markdown",
   "metadata": {},
   "source": [
    "### Avec les coefficients d'ondelettes de 1 à 6"
   ]
  },
  {
   "cell_type": "code",
   "execution_count": null,
   "metadata": {},
   "outputs": [],
   "source": [
    "clf = se.IsolationForest(n_estimators=100, contamination=0.033, bootstrap=True, n_jobs=-1)\n",
    "clf.fit(Coeff[:,:128])\n",
    "y_pred = clf.predict(Coeff[:,:128])\n",
    "\n",
    "CT_IF_ond06 = pd.DataFrame(list(zip(y_pred,anomalies)), columns=[\"pred\",\"Anomaly\"])\n",
    "display(pd.crosstab(CT_IF_ond06.pred, CT_IF_ond06.Anomaly))"
   ]
  },
  {
   "cell_type": "markdown",
   "metadata": {},
   "source": [
    "### Avec les coefficients d'ondelettes seuillés"
   ]
  },
  {
   "cell_type": "code",
   "execution_count": null,
   "metadata": {},
   "outputs": [],
   "source": [
    "clf = se.IsolationForest(n_estimators=100, contamination=0.033, bootstrap=True, n_jobs=-1)\n",
    "clf.fit(TCoeff)\n",
    "y_pred = clf.predict(TCoeff)\n",
    "\n",
    "CT_IF_ondT = pd.DataFrame(list(zip(y_pred,anomalies)), columns=[\"pred\",\"Anomaly\"])\n",
    "display(pd.crosstab(CT_IF_ondT.pred, CT_IF_ondT.Anomaly))"
   ]
  },
  {
   "cell_type": "markdown",
   "metadata": {},
   "source": [
    "## Visualisation des résultats"
   ]
  },
  {
   "cell_type": "markdown",
   "metadata": {},
   "source": [
    "### Une fonction pour visualiser les résultats"
   ]
  },
  {
   "cell_type": "code",
   "execution_count": null,
   "metadata": {
    "collapsed": true
   },
   "outputs": [],
   "source": [
    "def make_figure(fig, ax, CT, s1=70, s2=150, legend=True):\n",
    "    y_lim = (-1.13,1.13)\n",
    "    x_lim = [-5,260]\n",
    "    CT_Normal = CT[CT.Anomaly==0]\n",
    "    CT_Anormal_Detect = CT[np.logical_and(CT.Anomaly!=0,CT.pred==-1)]\n",
    "    CT_Anormal_NoDetect = CT[np.logical_and(CT.Anomaly!=0,CT.pred==1)]\n",
    "    ax.scatter(CT_Normal.index, -CT_Normal.pred, s = s1, color=\"white\", edgecolors=\"black\", label = \"Normal\")\n",
    "    ax.scatter(CT_Anormal_Detect.index, -CT_Anormal_Detect.pred, s = s2, color=\"green\", edgecolors=\"black\", label= \"Anomaly Detected\")\n",
    "    ax.scatter(CT_Anormal_NoDetect.index, -CT_Anormal_NoDetect.pred, s = s2, color=\"red\", edgecolors=\"black\", label =\"Anomaly Not detected\")\n",
    "    ax.plot(x_lim, [0,0], color=\"black\")\n",
    "\n",
    "\n",
    "    for i,x in enumerate([25,219,5,69]) :\n",
    "        if i == 0:\n",
    "            ax.plot([x,x] , y_lim, color=COLOR_DIC[1], linestyle=\"dashed\", label = ANOMALY_DIC[1])\n",
    "        else:\n",
    "            ax.plot([x,x] , y_lim, color=COLOR_DIC[1], linestyle=\"dashed\")\n",
    "\n",
    "    for i,x in enumerate([133,200,155]) :\n",
    "        if i == 0:\n",
    "            ax.plot([x,x] , y_lim, color=COLOR_DIC[2], linestyle=\"dashed\", label = ANOMALY_DIC[2])\n",
    "        else:\n",
    "            ax.plot([x,x] , y_lim, color=COLOR_DIC[2], linestyle=\"dashed\")\n",
    "    for x in enumerate([97]) :\n",
    "        if i == 0:\n",
    "            ax.plot([x,x] , y_lim, color=COLOR_DIC[3], linestyle=\"dashed\", label = ANOMALY_DIC[3])\n",
    "        else:\n",
    "            ax.plot([x,x] , y_lim, color=COLOR_DIC[3], linestyle=\"dashed\")\n",
    "\n",
    "\n",
    "    ax.set_xlim(*x_lim)\n",
    "    ax.set_ylim(y_lim)\n",
    "    if legend:\n",
    "        plt.legend(bbox_to_anchor=(1,1), fontsize=20)"
   ]
  },
  {
   "cell_type": "markdown",
   "metadata": {},
   "source": [
    "** Q. ** Commenter les résultats obtenus avec les coefficients d'ondelettes et retrouvez quelles sont les courbes atypiques qui sont détectées ainsi que les \"faux positifs\". Essayez de déterminer comment optimiser le choix du paramètre **k**. "
   ]
  },
  {
   "cell_type": "markdown",
   "metadata": {},
   "source": [
    "### Résultats SVM"
   ]
  },
  {
   "cell_type": "markdown",
   "metadata": {},
   "source": [
    "#### Avec les coefficients dans la base des composantes principales"
   ]
  },
  {
   "cell_type": "code",
   "execution_count": null,
   "metadata": {},
   "outputs": [],
   "source": [
    "fig = plt.figure(figsize=(20,10))\n",
    "ax = fig.add_subplot(1,1,1)\n",
    "make_figure(fig,ax,CT_svm_ACP)"
   ]
  },
  {
   "cell_type": "markdown",
   "metadata": {},
   "source": [
    "#### Aves les coefficients d'ondelettes de niveau le plus fin"
   ]
  },
  {
   "cell_type": "code",
   "execution_count": null,
   "metadata": {},
   "outputs": [],
   "source": [
    "fig = plt.figure(figsize=(20,10))\n",
    "ax = fig.add_subplot(1,1,1)\n",
    "make_figure(fig,ax,CT_svm_ond_fin)"
   ]
  },
  {
   "cell_type": "markdown",
   "metadata": {},
   "source": [
    "#### Aves les coefficients d'ondelettes de niveau  0 à 6"
   ]
  },
  {
   "cell_type": "code",
   "execution_count": null,
   "metadata": {},
   "outputs": [],
   "source": [
    "fig = plt.figure(figsize=(20,10))\n",
    "ax = fig.add_subplot(1,1,1)\n",
    "make_figure(fig,ax,CT_svm_ond_06)"
   ]
  },
  {
   "cell_type": "markdown",
   "metadata": {},
   "source": [
    "### LOF"
   ]
  },
  {
   "cell_type": "code",
   "execution_count": null,
   "metadata": {},
   "outputs": [],
   "source": [
    "fig = plt.figure(figsize=(20,20))\n",
    "ax = fig.add_subplot(4,2,1)\n",
    "make_figure(fig,ax,CT_lof_brut, legend=True)\n",
    "ax.set_title(\"Donnees Brutes\", fontsize=25)\n",
    "ax = fig.add_subplot(4,2,3)\n",
    "make_figure(fig,ax,CT_lof_ACP, legend=False)\n",
    "ax.set_title(\"ACP\", fontsize=25)\n",
    "ax = fig.add_subplot(4,2,4)\n",
    "make_figure(fig,ax,CT_lof_ACP2, legend=False)\n",
    "ax.set_title(\"ACP, 2 premieres composantes\", fontsize=25)\n",
    "ax = fig.add_subplot(4,2,5)\n",
    "make_figure(fig,ax,CT_lof_ond_all, legend=False)\n",
    "ax.set_title(\"Ondelette, tous les coefficients\", fontsize=25)\n",
    "ax = fig.add_subplot(4,2,6)\n",
    "make_figure(fig,ax,CT_lof_ond_fin, legend=False)\n",
    "ax.set_title(\"Ondelette, coefficients les plus fins\", fontsize=25)\n",
    "ax = fig.add_subplot(4,2,7)\n",
    "make_figure(fig,ax,CT_lof_ond_06, legend=False)\n",
    "ax.set_title(\"Ondelette, coefficients 0 a 6\", fontsize=25)\n",
    "ax = fig.add_subplot(4,2,8)\n",
    "make_figure(fig,ax,CT_lof_ond_seuil, legend=False)\n",
    "ax.set_title(\"Ondelette, coefficients seuilles\", fontsize=25)"
   ]
  },
  {
   "cell_type": "markdown",
   "metadata": {},
   "source": [
    "### Isolation Forest"
   ]
  },
  {
   "cell_type": "code",
   "execution_count": null,
   "metadata": {},
   "outputs": [],
   "source": [
    "fig = plt.figure(figsize=(20,20))\n",
    "ax = fig.add_subplot(4,2,1)\n",
    "make_figure(fig,ax,CT_IF_brut, legend=True)\n",
    "ax.set_title(\"Donnees Brutes\", fontsize=25)\n",
    "ax = fig.add_subplot(4,2,3)\n",
    "make_figure(fig,ax,CT_IF_ACP, legend=False)\n",
    "ax.set_title(\"ACP\", fontsize=25)\n",
    "ax = fig.add_subplot(4,2,4)\n",
    "make_figure(fig,ax,CT_IF_ACP2, legend=False)\n",
    "ax.set_title(\"ACP, 2 premieres composantes\", fontsize=25)\n",
    "ax = fig.add_subplot(4,2,5)\n",
    "make_figure(fig,ax,CT_IF_ond, legend=False)\n",
    "ax.set_title(\"Ondelette, tous les coefficients\", fontsize=25)\n",
    "ax = fig.add_subplot(4,2,6)\n",
    "make_figure(fig,ax,CT_IF_ond_fin, legend=False)\n",
    "ax.set_title(\"Ondelette, coefficients les plus fins\", fontsize=25)\n",
    "ax = fig.add_subplot(4,2,7)\n",
    "make_figure(fig,ax,CT_IF_ond06, legend=False)\n",
    "ax.set_title(\"Ondelette, coefficients 0 a 6\", fontsize=25)\n",
    "ax = fig.add_subplot(4,2,8)\n",
    "make_figure(fig,ax,CT_IF_ondT, legend=False)\n",
    "ax.set_title(\"Ondelette, coefficients seuilles\", fontsize=25)"
   ]
  },
  {
   "cell_type": "code",
   "execution_count": null,
   "metadata": {
    "collapsed": true
   },
   "outputs": [],
   "source": []
  }
 ],
 "metadata": {
  "hide_input": false,
  "kernelspec": {
   "display_name": "Python 3",
   "language": "python",
   "name": "python3"
  },
  "language_info": {
   "codemirror_mode": {
    "name": "ipython",
    "version": 3
   },
   "file_extension": ".py",
   "mimetype": "text/x-python",
   "name": "python",
   "nbconvert_exporter": "python",
   "pygments_lexer": "ipython3",
   "version": "3.6.7"
  },
  "toc": {
   "nav_menu": {},
   "number_sections": true,
   "sideBar": true,
   "skip_h1_title": false,
   "toc_cell": false,
   "toc_position": {
    "height": "904px",
    "left": "0px",
    "right": "20px",
    "top": "107px",
    "width": "570px"
   },
   "toc_section_display": "block",
   "toc_window_display": true
  }
 },
 "nbformat": 4,
 "nbformat_minor": 2
}
